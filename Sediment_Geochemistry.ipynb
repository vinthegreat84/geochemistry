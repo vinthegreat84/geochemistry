{
  "nbformat": 4,
  "nbformat_minor": 0,
  "metadata": {
    "colab": {
      "provenance": [],
      "authorship_tag": "ABX9TyOs+5wmespPgUUFum0JUwN6",
      "include_colab_link": true
    },
    "kernelspec": {
      "display_name": "Python 3",
      "name": "python3"
    },
    "language_info": {
      "name": "python"
    }
  },
  "cells": [
    {
      "cell_type": "markdown",
      "metadata": {
        "id": "view-in-github",
        "colab_type": "text"
      },
      "source": [
        "<a href=\"https://colab.research.google.com/github/vinthegreat84/geochemistry/blob/master/Sediment_Geochemistry.ipynb\" target=\"_parent\"><img src=\"https://colab.research.google.com/assets/colab-badge.svg\" alt=\"Open In Colab\"/></a>"
      ]
    },
    {
      "cell_type": "markdown",
      "metadata": {
        "id": "5PAJKeWVUSXB"
      },
      "source": [
        "# **Sediment Geochemistry**\n",
        "\n"
      ]
    },
    {
      "cell_type": "markdown",
      "metadata": {
        "id": "jH5D2xaKYyVY"
      },
      "source": [
        "# **Flowchart**\n",
        "*   Packages install and import\n",
        "*   Data import\n",
        "*   Data insight\n",
        "*   Weathering Indices (WIs) calculation and Compositional Space Diagrams\n",
        "*   Biplots\n",
        "*   Data statistics\n",
        "\n"
      ]
    },
    {
      "cell_type": "markdown",
      "metadata": {
        "id": "nABv-cQocMx6"
      },
      "source": [
        "># **Packages install and import**"
      ]
    },
    {
      "cell_type": "code",
      "metadata": {
        "id": "EVfcj-8xWqPi"
      },
      "source": [
        "# uncomment below lines of code to install required packages\n",
        "# !pip install dash\n",
        "\n",
        "# !pip install pandas\n",
        "# !pip install numpy\n",
        "# !pip install matplotlib\n",
        "# !pip install seaborn\n",
        "# !pip install plotly_express\n",
        "# !pip install dfply"
      ],
      "execution_count": null,
      "outputs": []
    },
    {
      "cell_type": "code",
      "metadata": {
        "id": "mBJDDgJxUPRT",
        "colab": {
          "base_uri": "https://localhost:8080/"
        },
        "outputId": "bc718aa0-30df-48b5-97a7-020b96f9470a"
      },
      "source": [
        "# importing all the necessary packages \n",
        "import pandas as pd\n",
        "import numpy as np\n",
        "import matplotlib.pyplot as plt\n",
        "plt.style.use('seaborn-darkgrid')\n",
        "import seaborn as sns \n",
        "import plotly.express as px\n",
        "import plotly.graph_objects as go\n",
        "from plotly.subplots import make_subplots\n",
        "from plotly.offline import download_plotlyjs, init_notebook_mode, plot, iplot\n",
        "import plotnine\n",
        "\n",
        "!pip install dfply\n",
        "import dfply\n",
        "from dfply import *\n",
        "\n",
        "from plotnine import ggplot, aes\n",
        "\n",
        "# package for plot scales\n",
        "from mizani.formatters import comma_format\n",
        "\n",
        "import ipywidgets\n",
        "\n",
        "import warnings\n",
        "warnings.filterwarnings('ignore') \n",
        "\n",
        "from IPython.display import display"
      ],
      "execution_count": null,
      "outputs": [
        {
          "output_type": "stream",
          "name": "stdout",
          "text": [
            "Collecting dfply\n",
            "  Downloading dfply-0.3.3-py3-none-any.whl (612 kB)\n",
            "\u001b[K     |████████████████████████████████| 612 kB 5.5 MB/s \n",
            "\u001b[?25hRequirement already satisfied: pandas in /usr/local/lib/python3.7/dist-packages (from dfply) (1.1.5)\n",
            "Requirement already satisfied: numpy in /usr/local/lib/python3.7/dist-packages (from dfply) (1.19.5)\n",
            "Requirement already satisfied: pytz>=2017.2 in /usr/local/lib/python3.7/dist-packages (from pandas->dfply) (2018.9)\n",
            "Requirement already satisfied: python-dateutil>=2.7.3 in /usr/local/lib/python3.7/dist-packages (from pandas->dfply) (2.8.2)\n",
            "Requirement already satisfied: six>=1.5 in /usr/local/lib/python3.7/dist-packages (from python-dateutil>=2.7.3->pandas->dfply) (1.15.0)\n",
            "Installing collected packages: dfply\n",
            "Successfully installed dfply-0.3.3\n"
          ]
        }
      ]
    },
    {
      "cell_type": "markdown",
      "metadata": {
        "id": "bVJ0VJSVc-Uo"
      },
      "source": [
        "> # **Data import**"
      ]
    },
    {
      "cell_type": "markdown",
      "metadata": {
        "id": "cZqUUdN-xAhw"
      },
      "source": [
        "**Data (composite) details:**\n",
        "\n",
        "Sample Name/ID | Sample Category | Reference\n",
        "---------------|-----------------|----------\n",
        "UCC-1 | Upper Continental Crust | Shaw et al., 1967, 1976, 1986\n",
        "UCC-2 | Upper Continental Crust | Fahrig and Eade, 1968; Eade and Fahrig, 1973\n",
        "UCC-3 | Upper Continental Crust | Ronov and Yaroshevskiy, 1976\n",
        "UCC-4 | Upper Continental Crust | Gao et al., 1998\n",
        "UCC-5 | Upper Continental Crust | Taylor and McLennan, 1985, 1995\n",
        "UCC-6 | Upper Continental Crust | Wedepohl, 1995\n",
        "UCC-7 | Upper Continental Crust | Rudnick and Gao, 2003\n",
        "UCC-8 | Upper Continental Crust | Togashi et al., 2000\n",
        "Dunite | Igneous Composite | Hyndman, 1985; Le Maitre, 1976\n",
        "Harzburgite | Igneous Composite | Hyndman, 1985; Le Maitre, 1976\n",
        "Peridotite | Igneous Composite | Hyndman, 1985; Le Maitre, 1976\n",
        "Lherzolite | Igneous Composite | Hyndman, 1985; Le Maitre, 1976\n",
        "Anorthosite | Igneous Composite | Hyndman, 1985; Le Maitre, 1976\n",
        "Gabbro | Igneous Composite | Hyndman, 1985; Le Maitre, 1976\n",
        "Basalt | Igneous Composite | Hyndman, 1985; Le Maitre, 1976\n",
        "Tholeiite | Igneous Composite | Hyndman, 1985; Le Maitre, 1976\n",
        "Alkali basalt | Igneous Composite | Hyndman, 1985; Le Maitre, 1976\n",
        "Andesite | Igneous Composite | Hyndman, 1985; Le Maitre, 1976\n",
        "Dacite | Igneous Composite | Hyndman, 1985; Le Maitre, 1976\n",
        "Tonalite | Igneous Composite | Hyndman, 1985; Le Maitre, 1976\n",
        "Diorite and Granodiorite quartz diorite | Igneous Composite | Hyndman, 1985; Le Maitre, 1976\n",
        "Granodiorite and quartz monzodiorite | Igneous Composite | Hyndman, 1985; Le Maitre, 1976\n",
        "Rhyolite | Igneous Composite | Hyndman, 1985; Le Maitre, 1976\n",
        "Granite | Igneous Composite | Hyndman, 1985; Le Maitre, 1976\n",
        "Trachyte | Igneous Composite | Hyndman, 1985; Le Maitre, 1976\n",
        "Syenite | Igneous Composite | Hyndman, 1985; Le Maitre, 1976\n",
        "Nepheline syenite | Igneous Composite | Hyndman, 1985; Le Maitre, 1976\n",
        "Phonolite | Igneous Composite | Hyndman, 1985; Le Maitre, 1976\n",
        "NASC | Shale Composite | McLennan et al., 1983; McLennan, 2009; Gromet et al., 1984\n",
        "PAAS | Shale Composite | Taylor and McLennan, 1985; Barth et al., 2000; Haskin and Haskin, 1966; McLennan, 2009; Nance and Taylor, 1976; McLennan, 1981, 1989\n",
        "Average glacial diamictites | Shale Composite | McLennan et al., 1983\n",
        "River Suspended | Shale Composite | Martin and Meybeck, 1979; Gaillardet et al., 1999\n",
        "Loess | Shale Composite | McLennan, 2001\n",
        "Russian Shale | Shale Composite | Ronov et al., 1988\n",
        "Condie | Shale Composite | Condie, 1993\n",
        "GLOSS | Shale Composite | Condie, 1993\n",
        "PM Mud | Shale Composite | McLennan et al., 1990; Bhatia, 1981, 1985a, 1985b\n",
        "AM Mud | Shale Composite | McLennan et al., 1990; Bhatia, 1981, 1985a, 1985b\n",
        "ES | Shale Composite | Taylor and McLennan, 2009\n",
        "Tillite | Sand Composite | Panahi and Young, 1997; Yan et al., 2000\n",
        "Condie Sandstone | Sand Composite | Condie, 1993\n",
        "Condie Greywacke | Sand Composite | Condie, 1993\n",
        "PM Sand | Sand Composite | McLennan et al., 1990; Bhatia, 1981, 1985b; Bhatia and Crook, 1986\n",
        "AM Sand | Sand Composite | McLennan et al., 1990; Bhatia, 1981, 1985b; Bhatia and Crook, 1986\n",
        "Amazon | Suspended Sediment | McLennan, 1993\n",
        "Colorado | Suspended Sediment | McLennan, 1993\n",
        "Columbia | Suspended Sediment | McLennan, 1993\n",
        "Congo (Zaire) | Suspended Sediment | McLennan, 1993\n",
        "Danube | Suspended Sediment | McLennan, 1993\n",
        "Gangess/Brahmaputra | Suspended Sediment | McLennan, 1993\n",
        "Huanghe | Suspended Sediment | McLennan, 1993\n",
        "Indus | Suspended Sediment | McLennan, 1993\n",
        "Mackenzie | Suspended Sediment | McLennan, 1993\n",
        "Mekong | Suspended Sediment | McLennan, 1993\n",
        "Mississippi | Suspended Sediment | McLennan, 1993\n",
        "Niger | Suspended Sediment | McLennan, 1993\n",
        "Nile | Suspended Sediment | McLennan, 1993\n",
        "Orinoco | Suspended Sediment | McLennan, 1993\n",
        "Parana | Suspended Sediment | McLennan, 1993\n",
        "St. Lawrence | Suspended Sediment | McLennan, 1993\n",
        "Western Europe | Denudation Region | McLennan, 1993\n",
        "Alpine Europe | Denudation Region | McLennan, 1993\n",
        "Central America (incl. Mexico) | Denudation Region | McLennan, 1993\n",
        "Northwest South America | Denudation Region | McLennan, 1993\n",
        "Ocean Islands (excl. New Zealand) | Denudation Region | McLennan, 1993\n",
        "New Zealand (South Island) | Denudation Region | McLennan, 1993\n",
        "U.S. Atlantic Coast | Denudation Region | McLennan, 1993\n",
        "\n",
        "**Acronym used:**\n",
        "\n",
        "PAAS    = Post Archaean Australian Shale\n",
        "\n",
        "NASC    = North American Shale Composite\n",
        "\n",
        "GLOSS   = Global  Subducting Sediment\n",
        "\n",
        "PM Mud  = Passive Margin Mud\n",
        "\n",
        "AM Mud  = Active Margin Mud\n",
        "\n",
        "ES      = European Shale\n",
        "\n",
        "PM Sand = Passive Margin Sand\n",
        "\n",
        "AM Sand = Active Margin Sand"
      ]
    },
    {
      "cell_type": "markdown",
      "metadata": {
        "id": "G57QDw7pgFAt"
      },
      "source": [
        "**Data (case study) details:**\n",
        "\n",
        "* UCC (Upper Continental Crust) after Taylor and McLennan, 1985, 1995\n",
        "* PAAS (Post Archaean Australian Shale) after Taylor and McLennan, 1985; Barth et al., 2000; Haskin and Haskin, 1966; McLennan, 1981, 1989, 2009; Nance and Taylor, 1976\n",
        "* NASC (North American Shale Composite) after McLennan et al., 1983; McLennan, 2009; Gromet et al., 1984\n",
        "* granite, granodiorite, basalt after Hyndman, 1985; Le Maitre, 1976\n",
        "* sandstones of Barail Group and Surma Group, Mizoram Foreland Basin, Northeast India after Hussain and Bharali, 2019; \n",
        "* lake sediments after Lone et al., 2017;"
      ]
    },
    {
      "cell_type": "code",
      "metadata": {
        "id": "yyPBRsdmU22f"
      },
      "source": [
        "# Loading the composite data (composite)\n",
        "data = pd.read_csv('https://raw.githubusercontent.com/vinthegreat84/geochemistry/master/composite.csv')\n",
        "\n",
        "# Loading the case study data (sample)\n",
        "case = pd.read_csv('https://raw.githubusercontent.com/vinthegreat84/geochemistry/master/sample.csv')"
      ],
      "execution_count": null,
      "outputs": []
    },
    {
      "cell_type": "markdown",
      "metadata": {
        "id": "5KJPugRSc_d-"
      },
      "source": [
        "> # **Data insight**"
      ]
    },
    {
      "cell_type": "code",
      "metadata": {
        "id": "TMb1KLBLNgfj"
      },
      "source": [
        "# composite data (composite) top 5 composition\n",
        "data.head()"
      ],
      "execution_count": null,
      "outputs": []
    },
    {
      "cell_type": "code",
      "metadata": {
        "id": "-QToSbROOjeN"
      },
      "source": [
        "# case study data (sample) top 5 composition\n",
        "case.head()"
      ],
      "execution_count": null,
      "outputs": []
    },
    {
      "cell_type": "markdown",
      "metadata": {
        "id": "M5J3fIlodb-W"
      },
      "source": [
        "> # **Weathering Indices (WIs) calculation and Compositional Space Diagrams**"
      ]
    },
    {
      "cell_type": "markdown",
      "metadata": {
        "id": "0-8XQEFfJyEO"
      },
      "source": [
        ">> Molar calculation"
      ]
    },
    {
      "cell_type": "code",
      "metadata": {
        "id": "WotC8W0IJaDP"
      },
      "source": [
        "# for composite\n",
        "data['molar_SiO2']  = data['SiO2']/60.08\n",
        "data['molar_TiO2']  = data['TiO2']/79.866\n",
        "data['molar_Al2O3'] = data['Al2O3']/101.9618\n",
        "data['molar_Fe2O3'] = data['Fe2O3']/159.69\n",
        "data['molar_MnO']   = data['MnO']/70.9374\n",
        "data['molar_MgO']   = data['MgO']/40.3044\n",
        "data['molar_CaO']   = data['CaO']/56.0794\n",
        "data['molar_Na2O']  = data['Na2O']/61.97894\n",
        "data['molar_K2O']   = data['K2O']/94.1954\n",
        "data['molar_P2O5']  = data['P2O5']/141.944522\n",
        "data['molar_CO2']   = data['CO2']/44.01\n",
        "\n",
        "# for 'sample'\n",
        "case['molar_SiO2']  = case['SiO2']/60.08\n",
        "case['molar_TiO2']  = case['TiO2']/79.866\n",
        "case['molar_Al2O3'] = case['Al2O3']/101.9618\n",
        "case['molar_Fe2O3'] = case['Fe2O3']/159.69\n",
        "case['molar_MnO']   = case['MnO']/70.9374\n",
        "case['molar_MgO']   = case['MgO']/40.3044\n",
        "case['molar_CaO']   = case['CaO']/56.0794\n",
        "case['molar_Na2O']  = case['Na2O']/61.97894\n",
        "case['molar_K2O']   = case['K2O']/94.1954\n",
        "case['molar_P2O5']  = case['P2O5']/141.944522\n",
        "case['molar_CO2']   = case['CO2']/44.01"
      ],
      "execution_count": null,
      "outputs": []
    },
    {
      "cell_type": "markdown",
      "metadata": {
        "id": "-fcgk16W4W-v"
      },
      "source": [
        ">> CaO* calculation"
      ]
    },
    {
      "cell_type": "code",
      "metadata": {
        "id": "Kd6GzLiLSqc6"
      },
      "source": [
        "# After McLennan, 1993\n",
        "# for composite\n",
        "data['diff'] = data['molar_CaO'] - (data['molar_CO2'] + data['molar_P2O5'])\n",
        "data['molar_CaO*'] = np.where(data['diff'] < data['molar_Na2O'], data['diff'], data['molar_Na2O'])\n",
        "\n",
        "\n",
        "# for 'sample'\n",
        "case['diff'] = case['molar_CaO'] - (case['molar_CO2'] + case['molar_P2O5'])\n",
        "case['molar_CaO*'] = np.where(case['diff'] < case['molar_Na2O'], case['diff'], case['molar_Na2O'])"
      ],
      "execution_count": null,
      "outputs": []
    },
    {
      "cell_type": "markdown",
      "metadata": {
        "id": "wU68YDW4T7GQ"
      },
      "source": [
        ">> ## Weathering Indices (WIs) formulae used:\n",
        "\n",
        "Chemical Index of Weathering (CIW) after Harnois, 1988:\n",
        "$ CIW = 100 * \\frac {Al_2O_3} {Al_2O_3 + CaO* + Na_2O} $\n",
        "---\n",
        "Chemical Proxy of Alteration (CPA) after Buggle et al., 2011:\n",
        "$ CPA = 100 * \\frac {Al_2O_3} {Al_2O_3 + Na_2O} $\n",
        "---\n",
        "Chemical Index of Alteration (CIA) after Nesbitt and Young, 1982:\n",
        "$ CIA = 100 * \\frac {Al_2O_3} {Al_2O_3 + CaO* + Na_2O + K_2O} $\n",
        "---\n",
        "Plagioclase Index of Alteration (PIA) after Fedo et al., 1995:\n",
        "$ PIA = 100 * \\frac {Al_2O_3 - K_2O} {Al_2O_3 + CaO* + Na_2O - K_2O} $\n",
        "---\n",
        "Modified Chemical Index of Alteration (CIX) after Garzanti et al., 2014:\n",
        "$ CIX = 100 * \\frac {Al_2O_3} {Al_2O_3 + Na_2O + K_2O} $\n",
        "---\n",
        "Index of Compositional Variability (ICV) after Cox et al., 1995:\n",
        "$ ICV = \\frac {Fe_2O_3 + K_2O + Na_2O + CaO + MgO + MnO + TiO_2} {Al_2O_3} $\n",
        "---\n",
        "Weathering Index of Parker (WIP) after Parker, 1970:\n",
        "$ WIP = 100 * (\\frac {2Na_2O} {0.35} + \\frac {MgO} {0.9} + \\frac {2K_2O} {0.25}+ \\frac {CaO*} {0.7} ) $\n",
        "---\n",
        "\n",
        "\n",
        "\n",
        "\n",
        "\n",
        "\n"
      ]
    },
    {
      "cell_type": "code",
      "metadata": {
        "id": "NBqCokf9t5_t"
      },
      "source": [
        "# Chemical Index of Weathering (CIW) after Harnois, 1988\n",
        "data['(CIW)'] = 100 * data['molar_Al2O3'] / (data['molar_Al2O3'] + data['molar_CaO*'] + data['molar_Na2O']) \n",
        "case['(CIW)'] = 100 * case['molar_Al2O3'] / (case['molar_Al2O3'] + case['molar_CaO*'] + case['molar_Na2O'])\n",
        "\n",
        "# Chemical Proxy of Alteration (CPA) after Buggle et al., 2011  \n",
        "data['(CPA)'] = 100 * data['molar_Al2O3'] / (data['molar_Al2O3'] + data['molar_Na2O']) \n",
        "case['(CPA)'] = 100 * case['molar_Al2O3'] / (case['molar_Al2O3'] + case['molar_Na2O']) \n",
        "\n",
        "# Chemical Index of Alteration (CIA) after Nesbitt and Young, 1982\n",
        "data['(CIA)'] = 100 * data['molar_Al2O3'] / (data['molar_Al2O3'] + data['molar_CaO*'] + data['molar_Na2O'] + data['molar_K2O']) \n",
        "case['(CIA)'] = 100 * case['molar_Al2O3'] / (case['molar_Al2O3'] + case['molar_CaO*'] + case['molar_Na2O'] + case['molar_K2O']) \n",
        "\n",
        "# Plagioclase Index of Alteration (PIA) after Fedo et al., 1995\n",
        "data['(PIA)'] = 100 * (data['molar_Al2O3'] - data['molar_K2O']) / (data['molar_Al2O3'] + data['molar_CaO*'] + data['molar_Na2O'] \n",
        "                                                                   - data['molar_K2O'])\n",
        "case['(PIA)'] = 100 * (case['molar_Al2O3'] - case['molar_K2O']) / (case['molar_Al2O3'] + case['molar_CaO*'] + case['molar_Na2O'] \n",
        "                                                                   - case['molar_K2O'])\n",
        "\n",
        "# Modified Chemical Index of Alteration (CIX) after Garzanti et al., 2014                                                            \n",
        "data['(CIX)'] = 100 * data['molar_Al2O3'] / (data['molar_Al2O3'] + data['molar_Na2O'] + data['molar_K2O']) \n",
        "case['(CIX)'] = 100 * case['molar_Al2O3'] / (case['molar_Al2O3'] + case['molar_Na2O'] + case['molar_K2O']) \n",
        "\n",
        "# Index of Compositional Variability (ICV) after Cox et al., 1995\n",
        "data['(ICV)'] = (data['Fe2O3'] + data['K2O'] + data['Na2O'] + data['CaO'] + data['MgO'] + data['MnO'] + data['TiO2']) / data['Al2O3']\n",
        "case['(ICV)'] = (case['Fe2O3'] + case['K2O'] + case['Na2O'] + case['CaO'] + case['MgO'] + case['MnO'] + case['TiO2']) / case['Al2O3']\n",
        "\n",
        "# Weathering Index of Parker (WIP) after Parker, 1970\n",
        "data['(WIP)'] = 100 * (2*data['molar_Na2O']/0.35 + data['molar_MgO']/0.9 + 2*data['molar_K2O']/0.25 + data['molar_CaO*']/0.7) \n",
        "case['(WIP)'] = 100 * (2*case['molar_Na2O']/0.35 + case['molar_MgO']/0.9 + 2*case['molar_K2O']/0.25 + case['molar_CaO*']/0.7)                                           "
      ],
      "execution_count": null,
      "outputs": []
    },
    {
      "cell_type": "markdown",
      "metadata": {
        "id": "zjlUy6fsb8eC"
      },
      "source": [
        ">> ## function definition of ternary plot"
      ]
    },
    {
      "cell_type": "code",
      "metadata": {
        "id": "th-egTtXb1d2"
      },
      "source": [
        "# function definition of ternary (composite) plot\n",
        "def ternary(data, a, b, c, color, hover, labels):\n",
        "  ternary = px.scatter_ternary(data, a = a, b = b, c = c, color = color, hover_name = hover, labels=labels, color_discrete_sequence=px.colors.qualitative.Antique)\n",
        "  ternary.update_layout({'ternary': {'sum': 100}})\n",
        "\n",
        "\n",
        "  ternary.update_ternaries(bgcolor='yellow')\n",
        "  \n",
        "  ternary.update_traces(marker=dict(size=12,\n",
        "                              line=dict(width=2,\n",
        "                                        color='DarkSlateGrey')),\n",
        "                  selector=dict(mode='markers'))\n",
        "\n",
        "\n",
        "  ternary.show()"
      ],
      "execution_count": null,
      "outputs": []
    },
    {
      "cell_type": "code",
      "metadata": {
        "id": "AIXp_hfmjvO7"
      },
      "source": [
        "# function definition of ternary (category) plot\n",
        "def ternary_cat(data, a, b, c, color, symbol, hover, labels):\n",
        "  ternary_cat = px.scatter_ternary(data, a = a, b = b, c = c, color = color, symbol = symbol, hover_name = hover, labels=labels, color_discrete_sequence=px.colors.qualitative.Antique)\n",
        "  ternary_cat.update_layout({'ternary': {'sum': 100}})\n",
        "\n",
        "  ternary_cat.update_ternaries(bgcolor='yellow')\n",
        "\n",
        "    \n",
        "  ternary_cat.update_traces(marker=dict(size=12,\n",
        "                              line=dict(width=2,\n",
        "                                        color='DarkSlateGrey')),\n",
        "                  selector=dict(mode='markers'))\n",
        "\n",
        "\n",
        "  ternary_cat.show()"
      ],
      "execution_count": null,
      "outputs": []
    },
    {
      "cell_type": "markdown",
      "metadata": {
        "id": "d4rXegOnTego"
      },
      "source": [
        ">>> #### **composite plots**"
      ]
    },
    {
      "cell_type": "markdown",
      "metadata": {
        "id": "6wED61ECcZSG"
      },
      "source": [
        ">>> ### A - CN - K compositional space diagram after *Nesbitt and Young, 1982*"
      ]
    },
    {
      "cell_type": "code",
      "metadata": {
        "id": "Or3E_G0ZcmOd",
        "colab": {
          "base_uri": "https://localhost:8080/",
          "height": 1000
        },
        "outputId": "789f5d40-31bc-4cd4-b51c-d15cfc432760"
      },
      "source": [
        "ACNK = ternary(data, data['molar_Al2O3'], data['molar_CaO*'] + data['molar_Na2O'], data['molar_K2O'], \n",
        "               data['type'], data['sample'], {\"a\": \"Al<sub>2</sub>O<sub>3</sub>\", \"b\": \"CaO*+Na<sub>2</sub>O\", \"c\": \"K<sub>2</sub>O\"})\n",
        "\n",
        "ACNK_case = ternary(case, case['molar_Al2O3'], case['molar_CaO*'] + case['molar_Na2O'], case['molar_K2O'], \n",
        "               case['type'], case['sample'], {\"a\": \"Al<sub>2</sub>O<sub>3</sub>\", \"b\": \"CaO*+Na<sub>2</sub>O\", \"c\": \"K<sub>2</sub>O\"})"
      ],
      "execution_count": null,
      "outputs": [
        {
          "output_type": "display_data",
          "data": {
            "text/html": [
              "<html>\n",
              "<head><meta charset=\"utf-8\" /></head>\n",
              "<body>\n",
              "    <div>\n",
              "            <script src=\"https://cdnjs.cloudflare.com/ajax/libs/mathjax/2.7.5/MathJax.js?config=TeX-AMS-MML_SVG\"></script><script type=\"text/javascript\">if (window.MathJax) {MathJax.Hub.Config({SVG: {font: \"STIX-Web\"}});}</script>\n",
              "                <script type=\"text/javascript\">window.PlotlyConfig = {MathJaxConfig: 'local'};</script>\n",
              "        <script src=\"https://cdn.plot.ly/plotly-latest.min.js\"></script>    \n",
              "            <div id=\"f4996997-2780-4e9d-b6f3-83979e578000\" class=\"plotly-graph-div\" style=\"height:525px; width:100%;\"></div>\n",
              "            <script type=\"text/javascript\">\n",
              "                \n",
              "                    window.PLOTLYENV=window.PLOTLYENV || {};\n",
              "                    \n",
              "                if (document.getElementById(\"f4996997-2780-4e9d-b6f3-83979e578000\")) {\n",
              "                    Plotly.newPlot(\n",
              "                        'f4996997-2780-4e9d-b6f3-83979e578000',\n",
              "                        [{\"a\": [0.147604298864869, 0.1580003491503681, 0.1553522986059485, 0.13897361560898297, 0.14878121021794438, 0.147604298864869, 0.1510369569780055, 0.14387741291346368], \"b\": [0.1148777310486433, 0.12746265102307333, 0.0906759618670471, 0.09228941314582018, 0.12552650948854563, 0.1148777310486433, 0.10551971363175944, 0.08777174956525556], \"c\": [0.03386577263857895, 0.030893228331744436, 0.031954851298471046, 0.028451495508273226, 0.035989018572032176, 0.03386577263857895, 0.02972544306834516, 0.025691275794784033], \"hoverlabel\": {\"namelength\": 0}, \"hovertemplate\": \"<b>%{hovertext}</b><br><br>type=UCC<br>molar_Al2O3=%{a}<br>CaO*+Na<sub>2</sub>O=%{b}<br>molar_K2O=%{c}\", \"hovertext\": [\"UCC-1\", \"UCC-2\", \"UCC-3\", \"UCC-4\", \"UCC-5\", \"UCC-6\", \"UCC-7\", \"UCC-8\"], \"legendgroup\": \"type=UCC\", \"marker\": {\"color\": \"rgb(133, 92, 117)\", \"line\": {\"color\": \"DarkSlateGrey\", \"width\": 2}, \"size\": 12, \"symbol\": \"circle\"}, \"mode\": \"markers\", \"name\": \"type=UCC\", \"showlegend\": true, \"subplot\": \"ternary\", \"type\": \"scatterternary\"}, {\"a\": [0.01784982218830974, 0.02304784733105928, 0.041486125195906706, 0.040309213842831336, 0.25362439658774166, 0.1518215645467224, 0.15437153914505236, 0.14505432426653903, 0.15005619751710936, 0.16692526024452295, 0.15603883022857581, 0.16182531104786302, 0.1741828802551544, 0.1559407542824862, 0.1301467804609177, 0.1404447548003272, 0.16633680456798527, 0.16319837429311762, 0.1983095629931994, 0.1937980694730772], \"b\": [0.00645380511509232, 0.010003397928393096, 0.015811822531976185, 0.01774796406650388, 0.10164743056270403, 0.07712297112535323, 0.09390286442459327, 0.07647759061384399, 0.10971468695656944, 0.11229620900260637, 0.12229960693099946, 0.11294158951411559, 0.12359036795401793, 0.1132642797698702, 0.0752949214951664, 0.09020412299826877, 0.12645789592330395, 0.13908607006557416, 0.16704136354988786, 0.16207348014138742], \"c\": [0.0008492983733812904, 0.0014862721534172581, 0.0036095180868704843, 0.0026540574168165323, 0.006900549283722984, 0.0098730935905575, 0.011677852633992743, 0.004564978756924435, 0.012739475600719355, 0.01719829206097113, 0.0230372183779675, 0.018472239621043066, 0.011253203447302098, 0.030893228331744436, 0.04564978756924435, 0.04320805474577315, 0.05286882374298533, 0.05255033685296734, 0.06030018451007161, 0.05573520575314718], \"hoverlabel\": {\"namelength\": 0}, \"hovertemplate\": \"<b>%{hovertext}</b><br><br>type=igneous_composite<br>molar_Al2O3=%{a}<br>CaO*+Na<sub>2</sub>O=%{b}<br>molar_K2O=%{c}\", \"hovertext\": [\"Dunite\", \"Harzburgite\", \"Peridotite\", \"Lherzolite\", \"Anorthosite\", \"Gabbro\", \"Basalt\", \"Tholeiite\", \"Alkali_basalt\", \"Andesite\", \"Dacite\", \"Tonalite\", \"Diorite_and_Granodiorite_quartz_diorite\", \"Granodiorite_and_quartz_monzodiorite\", \"Rhyolite\", \"Granite\", \"Trachyte\", \"Syenite\", \"Nepheline_syenite\", \"Phonolite\"], \"legendgroup\": \"type=igneous_composite\", \"marker\": {\"color\": \"rgb(217, 175, 107)\", \"line\": {\"color\": \"DarkSlateGrey\", \"width\": 2}, \"size\": 12, \"symbol\": \"circle\"}, \"mode\": \"markers\", \"name\": \"type=igneous_composite\", \"showlegend\": true, \"subplot\": \"ternary\", \"type\": \"scatterternary\"}, {\"a\": [0.16574834889144757, 0.18536353810937037, 0.14319088129083637, null, null, null, null, null, null, null, null], \"b\": [0.03678668915602622, 0.03872283069055392, 0.05163044092073856, null, null, null, null, null, null, null, null], \"c\": [0.042146431779046534, 0.03928004976888468, 0.03821842680215807, null, null, null, null, null, null, null, null], \"hoverlabel\": {\"namelength\": 0}, \"hovertemplate\": \"<b>%{hovertext}</b><br><br>type=shale_composite<br>molar_Al2O3=%{a}<br>CaO*+Na<sub>2</sub>O=%{b}<br>molar_K2O=%{c}\", \"hovertext\": [\"NASC\", \"PAAS\", \"average glacial diamictites\", \"River Suspended\", \"Loess\", \"Russian Shale\", \"Condie\", \"GLOSS\", \"PM Mud\", \"AM Mud\", \"ES\"], \"legendgroup\": \"type=shale_composite\", \"marker\": {\"color\": \"rgb(175, 100, 88)\", \"line\": {\"color\": \"DarkSlateGrey\", \"width\": 2}, \"size\": 12, \"symbol\": \"circle\"}, \"mode\": \"markers\", \"name\": \"type=shale_composite\", \"showlegend\": true, \"subplot\": \"ternary\", \"type\": \"scatterternary\"}, {\"a\": [null, null, null, null, null], \"b\": [null, null, null, null, null], \"c\": [null, null, null, null, null], \"hoverlabel\": {\"namelength\": 0}, \"hovertemplate\": \"<b>%{hovertext}</b><br><br>type=sand_composite<br>molar_Al2O3=%{a}<br>CaO*+Na<sub>2</sub>O=%{b}<br>molar_K2O=%{c}\", \"hovertext\": [\"Tillite\", \"Condie Sandstone\", \"Condie Greywacke\", \"PM Sand\", \"AM Sand\"], \"legendgroup\": \"type=sand_composite\", \"marker\": {\"color\": \"rgb(115, 111, 76)\", \"line\": {\"color\": \"DarkSlateGrey\", \"width\": 2}, \"size\": 12, \"symbol\": \"circle\"}, \"mode\": \"markers\", \"name\": \"type=sand_composite\", \"showlegend\": true, \"subplot\": \"ternary\", \"type\": \"scatterternary\"}, {\"a\": [0.22459391654521596, 0.08120688336220035, 0.16574834889144757, 0.24617062468493103, 0.11867189476843289, 0.15692151374338234, 0.16967138673503215, 0.1510369569780055, 0.1539792353606939, 0.21870935977983913, 0.11278733800305606, 0.3030546734169071, 0.18438277864847424, 0.16967138673503215, 0.20497872732729316, 0.15986379212607077], \"b\": [0.03581861838876238, 0.02129755687980466, 0.09358017416883864, 0.010326088184147712, 0.0768002808695986, 0.05098506040922933, 0.03388247685423468, 0.047758157851683164, 0.010326088184147712, 0.023879078925841582, 0.04388587478262778, 0.004194973324810008, 0.0322690255754616, 0.05227582143224779, 0.030332884040933903, 0.12036346539647176], \"c\": [0.02420500364136677, 0.01953386258776968, 0.030787066035071774, 0.017410616654316452, 0.02664673646483798, 0.029406956178327177, 0.03450274641861492, 0.028982306991636533, 0.04809152039271557, 0.032273338188489036, 0.02664673646483798, 0.014438072347481937, 0.024629652828057416, 0.02356802986133081, 0.024098841344694113, 0.036095180868704835], \"hoverlabel\": {\"namelength\": 0}, \"hovertemplate\": \"<b>%{hovertext}</b><br><br>type=suspended_sediment<br>molar_Al2O3=%{a}<br>CaO*+Na<sub>2</sub>O=%{b}<br>molar_K2O=%{c}\", \"hovertext\": [\"Amazon\", \"Colora\", \"Columb\", \"Congo\", \"Danube\", \"Gange\", \"Huang\", \"Indus\", \"Macken\", \"Mekong\", \"Mississ.\", \"Niger\", \"Nile\", \"Orinoco\", \"Paran\", \"St._Lawr\"], \"legendgroup\": \"type=suspended_sediment\", \"marker\": {\"color\": \"rgb(82, 106, 131)\", \"line\": {\"color\": \"DarkSlateGrey\", \"width\": 2}, \"size\": 12, \"symbol\": \"circle\"}, \"mode\": \"markers\", \"name\": \"type=suspended_sediment\", \"showlegend\": true, \"subplot\": \"ternary\", \"type\": \"scatterternary\"}, {\"a\": [0.15692151374338234, 0.11376809746395218, 0.18438277864847424, 0.1539792353606939, 0.1412293623690441, 0.18536353810937037, 0.17555594350040896], \"b\": [0.02323369841433235, 0.03807745017904469, 0.09164403263431094, 0.06550612191818704, 0.11390966028137944, 0.08034987368289939, 0.049694299386210866], \"c\": [0.026859061058183305, 0.026115924981474678, 0.028451495508273226, 0.02993776766169048, 0.02558511349811137, 0.03736912842877677, 0.03630750546205016], \"hoverlabel\": {\"namelength\": 0}, \"hovertemplate\": \"<b>%{hovertext}</b><br><br>type=denudation_regions<br>molar_Al2O3=%{a}<br>CaO*+Na<sub>2</sub>O=%{b}<br>molar_K2O=%{c}\", \"hovertext\": [\"Western_Europe\", \"Alpine_Europe\", \"Central_America\", \"Northwest_South_America\", \"Ocean_Islands_(excl._N.Z.)\", \"New_Zealand_(S._Island)\", \"U.S._Atlantic_Coast\"], \"legendgroup\": \"type=denudation_regions\", \"marker\": {\"color\": \"rgb(98, 83, 119)\", \"line\": {\"color\": \"DarkSlateGrey\", \"width\": 2}, \"size\": 12, \"symbol\": \"circle\"}, \"mode\": \"markers\", \"name\": \"type=denudation_regions\", \"showlegend\": true, \"subplot\": \"ternary\", \"type\": \"scatterternary\"}],\n",
              "                        {\"legend\": {\"tracegroupgap\": 0}, \"margin\": {\"t\": 60}, \"template\": {\"data\": {\"bar\": [{\"error_x\": {\"color\": \"#2a3f5f\"}, \"error_y\": {\"color\": \"#2a3f5f\"}, \"marker\": {\"line\": {\"color\": \"#E5ECF6\", \"width\": 0.5}}, \"type\": \"bar\"}], \"barpolar\": [{\"marker\": {\"line\": {\"color\": \"#E5ECF6\", \"width\": 0.5}}, \"type\": \"barpolar\"}], \"carpet\": [{\"aaxis\": {\"endlinecolor\": \"#2a3f5f\", \"gridcolor\": \"white\", \"linecolor\": \"white\", \"minorgridcolor\": \"white\", \"startlinecolor\": \"#2a3f5f\"}, \"baxis\": {\"endlinecolor\": \"#2a3f5f\", \"gridcolor\": \"white\", \"linecolor\": \"white\", \"minorgridcolor\": \"white\", \"startlinecolor\": \"#2a3f5f\"}, \"type\": \"carpet\"}], \"choropleth\": [{\"colorbar\": {\"outlinewidth\": 0, \"ticks\": \"\"}, \"type\": \"choropleth\"}], \"contour\": [{\"colorbar\": {\"outlinewidth\": 0, \"ticks\": \"\"}, \"colorscale\": [[0.0, \"#0d0887\"], [0.1111111111111111, \"#46039f\"], [0.2222222222222222, \"#7201a8\"], [0.3333333333333333, \"#9c179e\"], [0.4444444444444444, \"#bd3786\"], [0.5555555555555556, \"#d8576b\"], [0.6666666666666666, \"#ed7953\"], [0.7777777777777778, \"#fb9f3a\"], [0.8888888888888888, \"#fdca26\"], [1.0, \"#f0f921\"]], \"type\": \"contour\"}], \"contourcarpet\": [{\"colorbar\": {\"outlinewidth\": 0, \"ticks\": \"\"}, \"type\": \"contourcarpet\"}], \"heatmap\": [{\"colorbar\": {\"outlinewidth\": 0, \"ticks\": \"\"}, \"colorscale\": [[0.0, \"#0d0887\"], [0.1111111111111111, \"#46039f\"], [0.2222222222222222, \"#7201a8\"], [0.3333333333333333, \"#9c179e\"], [0.4444444444444444, \"#bd3786\"], [0.5555555555555556, \"#d8576b\"], [0.6666666666666666, \"#ed7953\"], [0.7777777777777778, \"#fb9f3a\"], [0.8888888888888888, \"#fdca26\"], [1.0, \"#f0f921\"]], \"type\": \"heatmap\"}], \"heatmapgl\": [{\"colorbar\": {\"outlinewidth\": 0, \"ticks\": \"\"}, \"colorscale\": [[0.0, \"#0d0887\"], [0.1111111111111111, \"#46039f\"], [0.2222222222222222, \"#7201a8\"], [0.3333333333333333, \"#9c179e\"], [0.4444444444444444, \"#bd3786\"], [0.5555555555555556, \"#d8576b\"], [0.6666666666666666, \"#ed7953\"], [0.7777777777777778, \"#fb9f3a\"], [0.8888888888888888, \"#fdca26\"], [1.0, \"#f0f921\"]], \"type\": \"heatmapgl\"}], \"histogram\": [{\"marker\": {\"colorbar\": {\"outlinewidth\": 0, \"ticks\": \"\"}}, \"type\": \"histogram\"}], \"histogram2d\": [{\"colorbar\": {\"outlinewidth\": 0, \"ticks\": \"\"}, \"colorscale\": [[0.0, \"#0d0887\"], [0.1111111111111111, \"#46039f\"], [0.2222222222222222, \"#7201a8\"], [0.3333333333333333, \"#9c179e\"], [0.4444444444444444, \"#bd3786\"], [0.5555555555555556, \"#d8576b\"], [0.6666666666666666, \"#ed7953\"], [0.7777777777777778, \"#fb9f3a\"], [0.8888888888888888, \"#fdca26\"], [1.0, \"#f0f921\"]], \"type\": \"histogram2d\"}], \"histogram2dcontour\": [{\"colorbar\": {\"outlinewidth\": 0, \"ticks\": \"\"}, \"colorscale\": [[0.0, \"#0d0887\"], [0.1111111111111111, \"#46039f\"], [0.2222222222222222, \"#7201a8\"], [0.3333333333333333, \"#9c179e\"], [0.4444444444444444, \"#bd3786\"], [0.5555555555555556, \"#d8576b\"], [0.6666666666666666, \"#ed7953\"], [0.7777777777777778, \"#fb9f3a\"], [0.8888888888888888, \"#fdca26\"], [1.0, \"#f0f921\"]], \"type\": \"histogram2dcontour\"}], \"mesh3d\": [{\"colorbar\": {\"outlinewidth\": 0, \"ticks\": \"\"}, \"type\": \"mesh3d\"}], \"parcoords\": [{\"line\": {\"colorbar\": {\"outlinewidth\": 0, \"ticks\": \"\"}}, \"type\": \"parcoords\"}], \"pie\": [{\"automargin\": true, \"type\": \"pie\"}], \"scatter\": [{\"marker\": {\"colorbar\": {\"outlinewidth\": 0, \"ticks\": \"\"}}, \"type\": \"scatter\"}], \"scatter3d\": [{\"line\": {\"colorbar\": {\"outlinewidth\": 0, \"ticks\": \"\"}}, \"marker\": {\"colorbar\": {\"outlinewidth\": 0, \"ticks\": \"\"}}, \"type\": \"scatter3d\"}], \"scattercarpet\": [{\"marker\": {\"colorbar\": {\"outlinewidth\": 0, \"ticks\": \"\"}}, \"type\": \"scattercarpet\"}], \"scattergeo\": [{\"marker\": {\"colorbar\": {\"outlinewidth\": 0, \"ticks\": \"\"}}, \"type\": \"scattergeo\"}], \"scattergl\": [{\"marker\": {\"colorbar\": {\"outlinewidth\": 0, \"ticks\": \"\"}}, \"type\": \"scattergl\"}], \"scattermapbox\": [{\"marker\": {\"colorbar\": {\"outlinewidth\": 0, \"ticks\": \"\"}}, \"type\": \"scattermapbox\"}], \"scatterpolar\": [{\"marker\": {\"colorbar\": {\"outlinewidth\": 0, \"ticks\": \"\"}}, \"type\": \"scatterpolar\"}], \"scatterpolargl\": [{\"marker\": {\"colorbar\": {\"outlinewidth\": 0, \"ticks\": \"\"}}, \"type\": \"scatterpolargl\"}], \"scatterternary\": [{\"marker\": {\"colorbar\": {\"outlinewidth\": 0, \"ticks\": \"\"}}, \"type\": \"scatterternary\"}], \"surface\": [{\"colorbar\": {\"outlinewidth\": 0, \"ticks\": \"\"}, \"colorscale\": [[0.0, \"#0d0887\"], [0.1111111111111111, \"#46039f\"], [0.2222222222222222, \"#7201a8\"], [0.3333333333333333, \"#9c179e\"], [0.4444444444444444, \"#bd3786\"], [0.5555555555555556, \"#d8576b\"], [0.6666666666666666, \"#ed7953\"], [0.7777777777777778, \"#fb9f3a\"], [0.8888888888888888, \"#fdca26\"], [1.0, \"#f0f921\"]], \"type\": \"surface\"}], \"table\": [{\"cells\": {\"fill\": {\"color\": \"#EBF0F8\"}, \"line\": {\"color\": \"white\"}}, \"header\": {\"fill\": {\"color\": \"#C8D4E3\"}, \"line\": {\"color\": \"white\"}}, \"type\": \"table\"}]}, \"layout\": {\"annotationdefaults\": {\"arrowcolor\": \"#2a3f5f\", \"arrowhead\": 0, \"arrowwidth\": 1}, \"coloraxis\": {\"colorbar\": {\"outlinewidth\": 0, \"ticks\": \"\"}}, \"colorscale\": {\"diverging\": [[0, \"#8e0152\"], [0.1, \"#c51b7d\"], [0.2, \"#de77ae\"], [0.3, \"#f1b6da\"], [0.4, \"#fde0ef\"], [0.5, \"#f7f7f7\"], [0.6, \"#e6f5d0\"], [0.7, \"#b8e186\"], [0.8, \"#7fbc41\"], [0.9, \"#4d9221\"], [1, \"#276419\"]], \"sequential\": [[0.0, \"#0d0887\"], [0.1111111111111111, \"#46039f\"], [0.2222222222222222, \"#7201a8\"], [0.3333333333333333, \"#9c179e\"], [0.4444444444444444, \"#bd3786\"], [0.5555555555555556, \"#d8576b\"], [0.6666666666666666, \"#ed7953\"], [0.7777777777777778, \"#fb9f3a\"], [0.8888888888888888, \"#fdca26\"], [1.0, \"#f0f921\"]], \"sequentialminus\": [[0.0, \"#0d0887\"], [0.1111111111111111, \"#46039f\"], [0.2222222222222222, \"#7201a8\"], [0.3333333333333333, \"#9c179e\"], [0.4444444444444444, \"#bd3786\"], [0.5555555555555556, \"#d8576b\"], [0.6666666666666666, \"#ed7953\"], [0.7777777777777778, \"#fb9f3a\"], [0.8888888888888888, \"#fdca26\"], [1.0, \"#f0f921\"]]}, \"colorway\": [\"#636efa\", \"#EF553B\", \"#00cc96\", \"#ab63fa\", \"#FFA15A\", \"#19d3f3\", \"#FF6692\", \"#B6E880\", \"#FF97FF\", \"#FECB52\"], \"font\": {\"color\": \"#2a3f5f\"}, \"geo\": {\"bgcolor\": \"white\", \"lakecolor\": \"white\", \"landcolor\": \"#E5ECF6\", \"showlakes\": true, \"showland\": true, \"subunitcolor\": \"white\"}, \"hoverlabel\": {\"align\": \"left\"}, \"hovermode\": \"closest\", \"mapbox\": {\"style\": \"light\"}, \"paper_bgcolor\": \"white\", \"plot_bgcolor\": \"#E5ECF6\", \"polar\": {\"angularaxis\": {\"gridcolor\": \"white\", \"linecolor\": \"white\", \"ticks\": \"\"}, \"bgcolor\": \"#E5ECF6\", \"radialaxis\": {\"gridcolor\": \"white\", \"linecolor\": \"white\", \"ticks\": \"\"}}, \"scene\": {\"xaxis\": {\"backgroundcolor\": \"#E5ECF6\", \"gridcolor\": \"white\", \"gridwidth\": 2, \"linecolor\": \"white\", \"showbackground\": true, \"ticks\": \"\", \"zerolinecolor\": \"white\"}, \"yaxis\": {\"backgroundcolor\": \"#E5ECF6\", \"gridcolor\": \"white\", \"gridwidth\": 2, \"linecolor\": \"white\", \"showbackground\": true, \"ticks\": \"\", \"zerolinecolor\": \"white\"}, \"zaxis\": {\"backgroundcolor\": \"#E5ECF6\", \"gridcolor\": \"white\", \"gridwidth\": 2, \"linecolor\": \"white\", \"showbackground\": true, \"ticks\": \"\", \"zerolinecolor\": \"white\"}}, \"shapedefaults\": {\"line\": {\"color\": \"#2a3f5f\"}}, \"ternary\": {\"aaxis\": {\"gridcolor\": \"white\", \"linecolor\": \"white\", \"ticks\": \"\"}, \"baxis\": {\"gridcolor\": \"white\", \"linecolor\": \"white\", \"ticks\": \"\"}, \"bgcolor\": \"#E5ECF6\", \"caxis\": {\"gridcolor\": \"white\", \"linecolor\": \"white\", \"ticks\": \"\"}}, \"title\": {\"x\": 0.05}, \"xaxis\": {\"automargin\": true, \"gridcolor\": \"white\", \"linecolor\": \"white\", \"ticks\": \"\", \"title\": {\"standoff\": 15}, \"zerolinecolor\": \"white\", \"zerolinewidth\": 2}, \"yaxis\": {\"automargin\": true, \"gridcolor\": \"white\", \"linecolor\": \"white\", \"ticks\": \"\", \"title\": {\"standoff\": 15}, \"zerolinecolor\": \"white\", \"zerolinewidth\": 2}}}, \"ternary\": {\"aaxis\": {\"title\": {\"text\": \"molar_Al2O3\"}}, \"baxis\": {\"title\": {\"text\": \"CaO*+Na<sub>2</sub>O\"}}, \"bgcolor\": \"yellow\", \"caxis\": {\"title\": {\"text\": \"molar_K2O\"}}, \"domain\": {\"x\": [0.0, 1.0], \"y\": [0.0, 1.0]}, \"sum\": 100}},\n",
              "                        {\"responsive\": true}\n",
              "                    ).then(function(){\n",
              "                            \n",
              "var gd = document.getElementById('f4996997-2780-4e9d-b6f3-83979e578000');\n",
              "var x = new MutationObserver(function (mutations, observer) {{\n",
              "        var display = window.getComputedStyle(gd).display;\n",
              "        if (!display || display === 'none') {{\n",
              "            console.log([gd, 'removed!']);\n",
              "            Plotly.purge(gd);\n",
              "            observer.disconnect();\n",
              "        }}\n",
              "}});\n",
              "\n",
              "// Listen for the removal of the full notebook cells\n",
              "var notebookContainer = gd.closest('#notebook-container');\n",
              "if (notebookContainer) {{\n",
              "    x.observe(notebookContainer, {childList: true});\n",
              "}}\n",
              "\n",
              "// Listen for the clearing of the current output cell\n",
              "var outputEl = gd.closest('.output');\n",
              "if (outputEl) {{\n",
              "    x.observe(outputEl, {childList: true});\n",
              "}}\n",
              "\n",
              "                        })\n",
              "                };\n",
              "                \n",
              "            </script>\n",
              "        </div>\n",
              "</body>\n",
              "</html>"
            ]
          },
          "metadata": {}
        },
        {
          "output_type": "display_data",
          "data": {
            "text/html": [
              "<html>\n",
              "<head><meta charset=\"utf-8\" /></head>\n",
              "<body>\n",
              "    <div>\n",
              "            <script src=\"https://cdnjs.cloudflare.com/ajax/libs/mathjax/2.7.5/MathJax.js?config=TeX-AMS-MML_SVG\"></script><script type=\"text/javascript\">if (window.MathJax) {MathJax.Hub.Config({SVG: {font: \"STIX-Web\"}});}</script>\n",
              "                <script type=\"text/javascript\">window.PlotlyConfig = {MathJaxConfig: 'local'};</script>\n",
              "        <script src=\"https://cdn.plot.ly/plotly-latest.min.js\"></script>    \n",
              "            <div id=\"c1695903-3979-4f3d-ab00-8133366e3449\" class=\"plotly-graph-div\" style=\"height:525px; width:100%;\"></div>\n",
              "            <script type=\"text/javascript\">\n",
              "                \n",
              "                    window.PLOTLYENV=window.PLOTLYENV || {};\n",
              "                    \n",
              "                if (document.getElementById(\"c1695903-3979-4f3d-ab00-8133366e3449\")) {\n",
              "                    Plotly.newPlot(\n",
              "                        'c1695903-3979-4f3d-ab00-8133366e3449',\n",
              "                        [{\"a\": [0.14878121021794438], \"b\": [0.12552650948854563], \"c\": [0.035989018572032176], \"hoverlabel\": {\"namelength\": 0}, \"hovertemplate\": \"<b>%{hovertext}</b><br><br>type=UCC<br>molar_Al2O3=%{a}<br>CaO*+Na<sub>2</sub>O=%{b}<br>molar_K2O=%{c}\", \"hovertext\": [\"UCC\"], \"legendgroup\": \"type=UCC\", \"marker\": {\"color\": \"rgb(133, 92, 117)\", \"line\": {\"color\": \"DarkSlateGrey\", \"width\": 2}, \"size\": 12, \"symbol\": \"circle\"}, \"mode\": \"markers\", \"name\": \"type=UCC\", \"showlegend\": true, \"subplot\": \"ternary\", \"type\": \"scatterternary\"}, {\"a\": [0.18536353810937037, 0.16574834889144757], \"b\": [0.03872283069055392, 0.03678668915602622], \"c\": [0.03928004976888468, 0.042146431779046534], \"hoverlabel\": {\"namelength\": 0}, \"hovertemplate\": \"<b>%{hovertext}</b><br><br>type=shale_composite<br>molar_Al2O3=%{a}<br>CaO*+Na<sub>2</sub>O=%{b}<br>molar_K2O=%{c}\", \"hovertext\": [\"PAAS\", \"NASC\"], \"legendgroup\": \"type=shale_composite\", \"marker\": {\"color\": \"rgb(217, 175, 107)\", \"line\": {\"color\": \"DarkSlateGrey\", \"width\": 2}, \"size\": 12, \"symbol\": \"circle\"}, \"mode\": \"markers\", \"name\": \"type=shale_composite\", \"showlegend\": true, \"subplot\": \"ternary\", \"type\": \"scatterternary\"}, {\"a\": [0.1404447548003272, 0.1559407542824862, 0.15437153914505236], \"b\": [0.09020412299826877, 0.1132642797698702, 0.09390286442459327], \"c\": [0.04320805474577315, 0.030893228331744436, 0.011677852633992743], \"hoverlabel\": {\"namelength\": 0}, \"hovertemplate\": \"<b>%{hovertext}</b><br><br>type=igneous_composite<br>molar_Al2O3=%{a}<br>CaO*+Na<sub>2</sub>O=%{b}<br>molar_K2O=%{c}\", \"hovertext\": [\"granite\", \"granodiorite\", \"basalt\"], \"legendgroup\": \"type=igneous_composite\", \"marker\": {\"color\": \"rgb(175, 100, 88)\", \"line\": {\"color\": \"DarkSlateGrey\", \"width\": 2}, \"size\": 12, \"symbol\": \"circle\"}, \"mode\": \"markers\", \"name\": \"type=igneous_composite\", \"showlegend\": true, \"subplot\": \"ternary\", \"type\": \"scatterternary\"}, {\"a\": [0.041780353034175544, 0.057668656300693004, 0.04325149222551976, 0.04334956817160937, 0.03099199896431801, 0.04982258061352389, 0.036974631675784464, 0.03226698626348299, 0.02334207516932812, 0.032561214101751834, 0.0394265303280248, 0.048939897098717364, 0.04472263141686396, 0.028638176258167274, 0.02775549274336075, 0.023145923277148893, 0.023734378953686578, 0.04658607439256663, 0.0611013144138295, 0.03246313815566222, 0.04266303654898207, 0.034130429239185654], \"b\": [0.07099185626601552, 0.09648438647063019, 0.047758157851683164, 0.04356318452687316, 0.03614130864451699, 0.05776155578007627, 0.05163044092073856, 0.0464673968286647, 0.05518003373403933, 0.03775475992329007, 0.0503396798977201, 0.056148104501303184, 0.04743546759592855, 0.05937500705884934, 0.05937500705884934, 0.056148104501303184, 0.056793485012812416, 0.05195313117649318, 0.05001698964196548, 0.06292459987215011, 0.04291780401536393, 0.06324729012790474], \"c\": [0.0053081148336330645, 0.007962172250449597, 0.007856009953776935, 0.0064759000970323385, 0.006051250910341693, 0.007643685360431612, 0.00817449684379492, 0.007325198470413629, 0.0033971934935251615, 0.005838926316996371, 0.0072190361737409685, 0.006794386987050323, 0.006900549283722984, 0.004352654163579113, 0.004458816460251774, 0.0040341672735611294, 0.0040341672735611294, 0.007325198470413629, 0.010191580480575484, 0.005095790240287742, 0.006582062393705, 0.0059450886136690325], \"hoverlabel\": {\"namelength\": 0}, \"hovertemplate\": \"<b>%{hovertext}</b><br><br>type=lake_sediment<br>molar_Al2O3=%{a}<br>CaO*+Na<sub>2</sub>O=%{b}<br>molar_K2O=%{c}\", \"hovertext\": [\"MBG1\", \"MBG2\", \"MBG3\", \"MBG4\", \"MBG5\", \"MBG6\", \"MBG7\", \"MBG8\", \"MBG9\", \"MBG10\", \"MBG11\", \"MBG12\", \"MBG13\", \"MBG14\", \"MBG15\", \"MBG16\", \"MBG17\", \"MBG18\", \"MBG19\", \"MBG20\", \"MBG21\", \"MBG22\"], \"legendgroup\": \"type=lake_sediment\", \"marker\": {\"color\": \"rgb(115, 111, 76)\", \"line\": {\"color\": \"DarkSlateGrey\", \"width\": 2}, \"size\": 12, \"symbol\": \"circle\"}, \"mode\": \"markers\", \"name\": \"type=lake_sediment\", \"showlegend\": true, \"subplot\": \"ternary\", \"type\": \"scatterternary\"}, {\"a\": [0.0492341249369862, 0.049528352775255045, 0.041878428980265156, 0.03766116329841176, 0.03599387221488832, 0.04050536573501056, 0.03677847978360523, 0.04766490979955239, 0.03962268222020404, 0.06286668144344255], \"b\": [0.09777514749364864, 0.08164063470591784, 0.06421536089516858, 0.06227921936064088, 0.0484035383631924, 0.060343077826113194, 0.07325068805629784, 0.08164063470591784, 0.07163723677752476, 0.1090693064450602], \"c\": [0.006900549283722984, 0.007537523063758951, 0.005095790240287742, 0.006900549283722984, 0.006688224690377662, 0.006794386987050323, 0.005520439426978387, 0.006794386987050323, 0.00488346564694242, 0.0072190361737409685], \"hoverlabel\": {\"namelength\": 0}, \"hovertemplate\": \"<b>%{hovertext}</b><br><br>type=Surma_sandstone<br>molar_Al2O3=%{a}<br>CaO*+Na<sub>2</sub>O=%{b}<br>molar_K2O=%{c}\", \"hovertext\": [\"SAR-5\", \"SAS-5\", \"SAT-2\", \"SAZ-3\", \"SBD-7\", \"SCT-23\", \"SCT-57\", \"SCT-60\", \"SCT-62\", \"SVC-7\"], \"legendgroup\": \"type=Surma_sandstone\", \"marker\": {\"color\": \"rgb(82, 106, 131)\", \"line\": {\"color\": \"DarkSlateGrey\", \"width\": 2}, \"size\": 12, \"symbol\": \"circle\"}, \"mode\": \"markers\", \"name\": \"type=Surma_sandstone\", \"showlegend\": true, \"subplot\": \"ternary\", \"type\": \"scatterternary\"}, {\"a\": [0.04609569466211856, 0.036484251945336395, 0.03501311275399218, 0.04040728978892095, 0.05217640331967463, 0.039916910058472886, 0.04168227708808593, 0.04060344168110017], \"b\": [0.03872283069055392, 0.028719432762160824, 0.056148104501303184, 0.045499326061400856, 0.06292459987215011, 0.056148104501303184, 0.026783291227633125, 0.0503396798977201], \"c\": [0.010191580480575484, 0.005414277130305726, 0.006900549283722984, 0.008068334547122259, 0.005414277130305726, 0.005414277130305726, 0.006157413207014354, 0.006794386987050323], \"hoverlabel\": {\"namelength\": 0}, \"hovertemplate\": \"<b>%{hovertext}</b><br><br>type=Barail_sandstone<br>molar_Al2O3=%{a}<br>CaO*+Na<sub>2</sub>O=%{b}<br>molar_K2O=%{c}\", \"hovertext\": [\"SCZ-3\", \"SCZ-4\", \"SCZ-12\", \"SCZ-14\", \"SCT-7\", \"SCT-8\", \"SCT-11\", \"SCT-12\"], \"legendgroup\": \"type=Barail_sandstone\", \"marker\": {\"color\": \"rgb(98, 83, 119)\", \"line\": {\"color\": \"DarkSlateGrey\", \"width\": 2}, \"size\": 12, \"symbol\": \"circle\"}, \"mode\": \"markers\", \"name\": \"type=Barail_sandstone\", \"showlegend\": true, \"subplot\": \"ternary\", \"type\": \"scatterternary\"}],\n",
              "                        {\"legend\": {\"tracegroupgap\": 0}, \"margin\": {\"t\": 60}, \"template\": {\"data\": {\"bar\": [{\"error_x\": {\"color\": \"#2a3f5f\"}, \"error_y\": {\"color\": \"#2a3f5f\"}, \"marker\": {\"line\": {\"color\": \"#E5ECF6\", \"width\": 0.5}}, \"type\": \"bar\"}], \"barpolar\": [{\"marker\": {\"line\": {\"color\": \"#E5ECF6\", \"width\": 0.5}}, \"type\": \"barpolar\"}], \"carpet\": [{\"aaxis\": {\"endlinecolor\": \"#2a3f5f\", \"gridcolor\": \"white\", \"linecolor\": \"white\", \"minorgridcolor\": \"white\", \"startlinecolor\": \"#2a3f5f\"}, \"baxis\": {\"endlinecolor\": \"#2a3f5f\", \"gridcolor\": \"white\", \"linecolor\": \"white\", \"minorgridcolor\": \"white\", \"startlinecolor\": \"#2a3f5f\"}, \"type\": \"carpet\"}], \"choropleth\": [{\"colorbar\": {\"outlinewidth\": 0, \"ticks\": \"\"}, \"type\": \"choropleth\"}], \"contour\": [{\"colorbar\": {\"outlinewidth\": 0, \"ticks\": \"\"}, \"colorscale\": [[0.0, \"#0d0887\"], [0.1111111111111111, \"#46039f\"], [0.2222222222222222, \"#7201a8\"], [0.3333333333333333, \"#9c179e\"], [0.4444444444444444, \"#bd3786\"], [0.5555555555555556, \"#d8576b\"], [0.6666666666666666, \"#ed7953\"], [0.7777777777777778, \"#fb9f3a\"], [0.8888888888888888, \"#fdca26\"], [1.0, \"#f0f921\"]], \"type\": \"contour\"}], \"contourcarpet\": [{\"colorbar\": {\"outlinewidth\": 0, \"ticks\": \"\"}, \"type\": \"contourcarpet\"}], \"heatmap\": [{\"colorbar\": {\"outlinewidth\": 0, \"ticks\": \"\"}, \"colorscale\": [[0.0, \"#0d0887\"], [0.1111111111111111, \"#46039f\"], [0.2222222222222222, \"#7201a8\"], [0.3333333333333333, \"#9c179e\"], [0.4444444444444444, \"#bd3786\"], [0.5555555555555556, \"#d8576b\"], [0.6666666666666666, \"#ed7953\"], [0.7777777777777778, \"#fb9f3a\"], [0.8888888888888888, \"#fdca26\"], [1.0, \"#f0f921\"]], \"type\": \"heatmap\"}], \"heatmapgl\": [{\"colorbar\": {\"outlinewidth\": 0, \"ticks\": \"\"}, \"colorscale\": [[0.0, \"#0d0887\"], [0.1111111111111111, \"#46039f\"], [0.2222222222222222, \"#7201a8\"], [0.3333333333333333, \"#9c179e\"], [0.4444444444444444, \"#bd3786\"], [0.5555555555555556, \"#d8576b\"], [0.6666666666666666, \"#ed7953\"], [0.7777777777777778, \"#fb9f3a\"], [0.8888888888888888, \"#fdca26\"], [1.0, \"#f0f921\"]], \"type\": \"heatmapgl\"}], \"histogram\": [{\"marker\": {\"colorbar\": {\"outlinewidth\": 0, \"ticks\": \"\"}}, \"type\": \"histogram\"}], \"histogram2d\": [{\"colorbar\": {\"outlinewidth\": 0, \"ticks\": \"\"}, \"colorscale\": [[0.0, \"#0d0887\"], [0.1111111111111111, \"#46039f\"], [0.2222222222222222, \"#7201a8\"], [0.3333333333333333, \"#9c179e\"], [0.4444444444444444, \"#bd3786\"], [0.5555555555555556, \"#d8576b\"], [0.6666666666666666, \"#ed7953\"], [0.7777777777777778, \"#fb9f3a\"], [0.8888888888888888, \"#fdca26\"], [1.0, \"#f0f921\"]], \"type\": \"histogram2d\"}], \"histogram2dcontour\": [{\"colorbar\": {\"outlinewidth\": 0, \"ticks\": \"\"}, \"colorscale\": [[0.0, \"#0d0887\"], [0.1111111111111111, \"#46039f\"], [0.2222222222222222, \"#7201a8\"], [0.3333333333333333, \"#9c179e\"], [0.4444444444444444, \"#bd3786\"], [0.5555555555555556, \"#d8576b\"], [0.6666666666666666, \"#ed7953\"], [0.7777777777777778, \"#fb9f3a\"], [0.8888888888888888, \"#fdca26\"], [1.0, \"#f0f921\"]], \"type\": \"histogram2dcontour\"}], \"mesh3d\": [{\"colorbar\": {\"outlinewidth\": 0, \"ticks\": \"\"}, \"type\": \"mesh3d\"}], \"parcoords\": [{\"line\": {\"colorbar\": {\"outlinewidth\": 0, \"ticks\": \"\"}}, \"type\": \"parcoords\"}], \"pie\": [{\"automargin\": true, \"type\": \"pie\"}], \"scatter\": [{\"marker\": {\"colorbar\": {\"outlinewidth\": 0, \"ticks\": \"\"}}, \"type\": \"scatter\"}], \"scatter3d\": [{\"line\": {\"colorbar\": {\"outlinewidth\": 0, \"ticks\": \"\"}}, \"marker\": {\"colorbar\": {\"outlinewidth\": 0, \"ticks\": \"\"}}, \"type\": \"scatter3d\"}], \"scattercarpet\": [{\"marker\": {\"colorbar\": {\"outlinewidth\": 0, \"ticks\": \"\"}}, \"type\": \"scattercarpet\"}], \"scattergeo\": [{\"marker\": {\"colorbar\": {\"outlinewidth\": 0, \"ticks\": \"\"}}, \"type\": \"scattergeo\"}], \"scattergl\": [{\"marker\": {\"colorbar\": {\"outlinewidth\": 0, \"ticks\": \"\"}}, \"type\": \"scattergl\"}], \"scattermapbox\": [{\"marker\": {\"colorbar\": {\"outlinewidth\": 0, \"ticks\": \"\"}}, \"type\": \"scattermapbox\"}], \"scatterpolar\": [{\"marker\": {\"colorbar\": {\"outlinewidth\": 0, \"ticks\": \"\"}}, \"type\": \"scatterpolar\"}], \"scatterpolargl\": [{\"marker\": {\"colorbar\": {\"outlinewidth\": 0, \"ticks\": \"\"}}, \"type\": \"scatterpolargl\"}], \"scatterternary\": [{\"marker\": {\"colorbar\": {\"outlinewidth\": 0, \"ticks\": \"\"}}, \"type\": \"scatterternary\"}], \"surface\": [{\"colorbar\": {\"outlinewidth\": 0, \"ticks\": \"\"}, \"colorscale\": [[0.0, \"#0d0887\"], [0.1111111111111111, \"#46039f\"], [0.2222222222222222, \"#7201a8\"], [0.3333333333333333, \"#9c179e\"], [0.4444444444444444, \"#bd3786\"], [0.5555555555555556, \"#d8576b\"], [0.6666666666666666, \"#ed7953\"], [0.7777777777777778, \"#fb9f3a\"], [0.8888888888888888, \"#fdca26\"], [1.0, \"#f0f921\"]], \"type\": \"surface\"}], \"table\": [{\"cells\": {\"fill\": {\"color\": \"#EBF0F8\"}, \"line\": {\"color\": \"white\"}}, \"header\": {\"fill\": {\"color\": \"#C8D4E3\"}, \"line\": {\"color\": \"white\"}}, \"type\": \"table\"}]}, \"layout\": {\"annotationdefaults\": {\"arrowcolor\": \"#2a3f5f\", \"arrowhead\": 0, \"arrowwidth\": 1}, \"coloraxis\": {\"colorbar\": {\"outlinewidth\": 0, \"ticks\": \"\"}}, \"colorscale\": {\"diverging\": [[0, \"#8e0152\"], [0.1, \"#c51b7d\"], [0.2, \"#de77ae\"], [0.3, \"#f1b6da\"], [0.4, \"#fde0ef\"], [0.5, \"#f7f7f7\"], [0.6, \"#e6f5d0\"], [0.7, \"#b8e186\"], [0.8, \"#7fbc41\"], [0.9, \"#4d9221\"], [1, \"#276419\"]], \"sequential\": [[0.0, \"#0d0887\"], [0.1111111111111111, \"#46039f\"], [0.2222222222222222, \"#7201a8\"], [0.3333333333333333, \"#9c179e\"], [0.4444444444444444, \"#bd3786\"], [0.5555555555555556, \"#d8576b\"], [0.6666666666666666, \"#ed7953\"], [0.7777777777777778, \"#fb9f3a\"], [0.8888888888888888, \"#fdca26\"], [1.0, \"#f0f921\"]], \"sequentialminus\": [[0.0, \"#0d0887\"], [0.1111111111111111, \"#46039f\"], [0.2222222222222222, \"#7201a8\"], [0.3333333333333333, \"#9c179e\"], [0.4444444444444444, \"#bd3786\"], [0.5555555555555556, \"#d8576b\"], [0.6666666666666666, \"#ed7953\"], [0.7777777777777778, \"#fb9f3a\"], [0.8888888888888888, \"#fdca26\"], [1.0, \"#f0f921\"]]}, \"colorway\": [\"#636efa\", \"#EF553B\", \"#00cc96\", \"#ab63fa\", \"#FFA15A\", \"#19d3f3\", \"#FF6692\", \"#B6E880\", \"#FF97FF\", \"#FECB52\"], \"font\": {\"color\": \"#2a3f5f\"}, \"geo\": {\"bgcolor\": \"white\", \"lakecolor\": \"white\", \"landcolor\": \"#E5ECF6\", \"showlakes\": true, \"showland\": true, \"subunitcolor\": \"white\"}, \"hoverlabel\": {\"align\": \"left\"}, \"hovermode\": \"closest\", \"mapbox\": {\"style\": \"light\"}, \"paper_bgcolor\": \"white\", \"plot_bgcolor\": \"#E5ECF6\", \"polar\": {\"angularaxis\": {\"gridcolor\": \"white\", \"linecolor\": \"white\", \"ticks\": \"\"}, \"bgcolor\": \"#E5ECF6\", \"radialaxis\": {\"gridcolor\": \"white\", \"linecolor\": \"white\", \"ticks\": \"\"}}, \"scene\": {\"xaxis\": {\"backgroundcolor\": \"#E5ECF6\", \"gridcolor\": \"white\", \"gridwidth\": 2, \"linecolor\": \"white\", \"showbackground\": true, \"ticks\": \"\", \"zerolinecolor\": \"white\"}, \"yaxis\": {\"backgroundcolor\": \"#E5ECF6\", \"gridcolor\": \"white\", \"gridwidth\": 2, \"linecolor\": \"white\", \"showbackground\": true, \"ticks\": \"\", \"zerolinecolor\": \"white\"}, \"zaxis\": {\"backgroundcolor\": \"#E5ECF6\", \"gridcolor\": \"white\", \"gridwidth\": 2, \"linecolor\": \"white\", \"showbackground\": true, \"ticks\": \"\", \"zerolinecolor\": \"white\"}}, \"shapedefaults\": {\"line\": {\"color\": \"#2a3f5f\"}}, \"ternary\": {\"aaxis\": {\"gridcolor\": \"white\", \"linecolor\": \"white\", \"ticks\": \"\"}, \"baxis\": {\"gridcolor\": \"white\", \"linecolor\": \"white\", \"ticks\": \"\"}, \"bgcolor\": \"#E5ECF6\", \"caxis\": {\"gridcolor\": \"white\", \"linecolor\": \"white\", \"ticks\": \"\"}}, \"title\": {\"x\": 0.05}, \"xaxis\": {\"automargin\": true, \"gridcolor\": \"white\", \"linecolor\": \"white\", \"ticks\": \"\", \"title\": {\"standoff\": 15}, \"zerolinecolor\": \"white\", \"zerolinewidth\": 2}, \"yaxis\": {\"automargin\": true, \"gridcolor\": \"white\", \"linecolor\": \"white\", \"ticks\": \"\", \"title\": {\"standoff\": 15}, \"zerolinecolor\": \"white\", \"zerolinewidth\": 2}}}, \"ternary\": {\"aaxis\": {\"title\": {\"text\": \"molar_Al2O3\"}}, \"baxis\": {\"title\": {\"text\": \"CaO*+Na<sub>2</sub>O\"}}, \"bgcolor\": \"yellow\", \"caxis\": {\"title\": {\"text\": \"molar_K2O\"}}, \"domain\": {\"x\": [0.0, 1.0], \"y\": [0.0, 1.0]}, \"sum\": 100}},\n",
              "                        {\"responsive\": true}\n",
              "                    ).then(function(){\n",
              "                            \n",
              "var gd = document.getElementById('c1695903-3979-4f3d-ab00-8133366e3449');\n",
              "var x = new MutationObserver(function (mutations, observer) {{\n",
              "        var display = window.getComputedStyle(gd).display;\n",
              "        if (!display || display === 'none') {{\n",
              "            console.log([gd, 'removed!']);\n",
              "            Plotly.purge(gd);\n",
              "            observer.disconnect();\n",
              "        }}\n",
              "}});\n",
              "\n",
              "// Listen for the removal of the full notebook cells\n",
              "var notebookContainer = gd.closest('#notebook-container');\n",
              "if (notebookContainer) {{\n",
              "    x.observe(notebookContainer, {childList: true});\n",
              "}}\n",
              "\n",
              "// Listen for the clearing of the current output cell\n",
              "var outputEl = gd.closest('.output');\n",
              "if (outputEl) {{\n",
              "    x.observe(outputEl, {childList: true});\n",
              "}}\n",
              "\n",
              "                        })\n",
              "                };\n",
              "                \n",
              "            </script>\n",
              "        </div>\n",
              "</body>\n",
              "</html>"
            ]
          },
          "metadata": {}
        }
      ]
    },
    {
      "cell_type": "markdown",
      "metadata": {
        "id": "LiLdJy1ec7Zi"
      },
      "source": [
        ">>> ### M - F - W compositional space diagramm after *Ohta and Arai, 2007*"
      ]
    },
    {
      "cell_type": "code",
      "metadata": {
        "id": "ZefdF2r4dBdg"
      },
      "source": [
        "# eight oxides (SiO2, TiO2, Al2O3, Fe2O3, MgO, CaO, Na2O and K2O) used in the formulas and re-closing to 100 wt.% (expressed as OXIDE.100 = 100*OXIDE/sum)\n",
        "data['sum'] = data[['SiO2', 'TiO2', 'Al2O3', 'Fe2O3', 'MgO', 'CaO', 'Na2O', 'K2O']].sum(axis=1)\n",
        "case['sum'] = case[['SiO2', 'TiO2', 'Al2O3', 'Fe2O3', 'MgO', 'CaO', 'Na2O', 'K2O']].sum(axis=1)\n",
        "\n",
        "data['SiO2.100']  = 100 * data['SiO2']  / data['sum']\n",
        "data['TiO2.100']  = 100 * data['TiO2']  / data['sum']\n",
        "data['Al2O3.100'] = 100 * data['Al2O3'] / data['sum']\n",
        "data['Fe2O3.100'] = 100 * data['Fe2O3'] / data['sum']\n",
        "data['MgO.100']   = 100 * data['MgO']   / data['sum']\n",
        "data['CaO.100']   = 100 * data['CaO']   / data['sum']\n",
        "data['Na2O.100']  = 100 * data['Na2O']  / data['sum']\n",
        "data['K2O.100']   = 100 * data['K2O']   / data['sum']\n",
        "\n",
        "case['SiO2.100']  = 100 * case['SiO2']  / case['sum']\n",
        "case['TiO2.100']  = 100 * case['TiO2']  / case['sum']\n",
        "case['Al2O3.100'] = 100 * case['Al2O3'] / case['sum']\n",
        "case['Fe2O3.100'] = 100 * case['Fe2O3'] / case['sum']\n",
        "case['MgO.100']   = 100 * case['MgO']   / case['sum']\n",
        "case['CaO.100']   = 100 * case['CaO']   / case['sum']\n",
        "case['Na2O.100']  = 100 * case['Na2O']  / case['sum']\n",
        "case['K2O.100']   = 100 * case['K2O']   / case['sum']\n",
        "\n",
        "# M - F - W apices calculation after Ohta and Arai, 2007\n",
        "## Step 1 of the formulas for calculating vertices (M, F and W) of M - F - W compositional space diagram\n",
        "data['(M)'] = - 0.395*np.log(data['SiO2.100']) + 0.206*np.log(data['TiO2.100']) - 0.316*np.log(data['Al2O3.100']) + 0.160*np.log(data['Fe2O3.100']) + 0.246*np.log(data['MgO.100']) + 0.368*np.log(data['CaO.100']) + 0.073*np.log(data['Na2O.100']) - 0.342*np.log(data['K2O.100']) + 2.266\n",
        "data['(F)'] = + 0.191*np.log(data['SiO2.100']) - 0.397*np.log(data['TiO2.100']) + 0.020*np.log(data['Al2O3.100']) - 0.375*np.log(data['Fe2O3.100']) - 0.243*np.log(data['MgO.100']) + 0.079*np.log(data['CaO.100']) + 0.392*np.log(data['Na2O.100']) + 0.333*np.log(data['K2O.100']) - 0.892\n",
        "data['(W)'] = + 0.203*np.log(data['SiO2.100']) + 0.191*np.log(data['TiO2.100']) + 0.296*np.log(data['Al2O3.100']) + 0.215*np.log(data['Fe2O3.100']) - 0.002*np.log(data['MgO.100']) - 0.448*np.log(data['CaO.100']) - 0.464*np.log(data['Na2O.100']) + 0.008*np.log(data['K2O.100']) - 1.374\n",
        "\n",
        "case['(M)'] = - 0.395*np.log(case['SiO2.100']) + 0.206*np.log(case['TiO2.100']) - 0.316*np.log(case['Al2O3.100']) + 0.160*np.log(case['Fe2O3.100']) + 0.246*np.log(case['MgO.100']) + 0.368*np.log(case['CaO.100']) + 0.073*np.log(case['Na2O.100']) - 0.342*np.log(case['K2O.100']) + 2.266\n",
        "case['(F)'] = + 0.191*np.log(case['SiO2.100']) - 0.397*np.log(case['TiO2.100']) + 0.020*np.log(case['Al2O3.100']) - 0.375*np.log(case['Fe2O3.100']) - 0.243*np.log(case['MgO.100']) + 0.079*np.log(case['CaO.100']) + 0.392*np.log(case['Na2O.100']) + 0.333*np.log(case['K2O.100']) - 0.892\n",
        "case['(W)'] = + 0.203*np.log(case['SiO2.100']) + 0.191*np.log(case['TiO2.100']) + 0.296*np.log(case['Al2O3.100']) + 0.215*np.log(case['Fe2O3.100']) - 0.002*np.log(case['MgO.100']) - 0.448*np.log(case['CaO.100']) - 0.464*np.log(case['Na2O.100']) + 0.008*np.log(case['K2O.100']) - 1.374\n",
        "\n",
        "## Step 2 of the formulas for calculating vertices (M, F and W) of M - F - W compositional space diagram\n",
        "data['(M)'] = np.exp(data['(M)'])\n",
        "data['(F)'] = np.exp(data['(F)'])\n",
        "data['(W)'] = np.exp(data['(W)'])\n",
        "\n",
        "case['(M)'] = np.exp(case['(M)'])\n",
        "case['(F)'] = np.exp(case['(F)'])\n",
        "case['(W)'] = np.exp(case['(W)'])\n",
        "\n",
        "# ternary plot drawing\n",
        "MFW = ternary(data, data['(M)'], data['(F)'], data['(W)'], data['type'], data['sample'], {\"a\": \"M\", \"b\": \"F\", \"c\": \"W\"})\n",
        "\n",
        "MFW_case = ternary(case, case['(M)'], case['(F)'], case['(W)'], case['type'], case['sample'], {\"a\": \"M\", \"b\": \"F\", \"c\": \"W\"})"
      ],
      "execution_count": null,
      "outputs": []
    },
    {
      "cell_type": "markdown",
      "metadata": {
        "id": "ZA4nxDz7dKMj"
      },
      "source": [
        ">>> ### A - CNK - FM compositional space diagramm after *Nesbitt and Young, 1989*"
      ]
    },
    {
      "cell_type": "code",
      "metadata": {
        "id": "qJFdOr6sdP6x"
      },
      "source": [
        "ACNKFM = ternary(data, data['molar_Al2O3'], data['molar_CaO*'] + data['molar_Na2O'] + data['molar_K2O'], \n",
        "                 data['molar_Fe2O3'] + data['molar_MgO'], data['type'], data['sample'], \n",
        "                 {\"a\": \"Al<sub>2</sub>O<sub>3</sub>\", \"b\": \"CaO*+Na<sub>2</sub>O+K<sub>2</sub>O\", \"c\": \"Fe<sub>2</sub>O<sub>3</sub>+MgO\"})\n",
        "\n",
        "ACNKFM_case = ternary(case, case['molar_Al2O3'], case['molar_CaO*'] + case['molar_Na2O'] + case['molar_K2O'], \n",
        "                 case['molar_Fe2O3'] + case['molar_MgO'], case['type'], case['sample'], \n",
        "                 {\"a\": \"Al<sub>2</sub>O<sub>3</sub>\", \"b\": \"CaO*+Na<sub>2</sub>O+K<sub>2</sub>O\", \"c\": \"Fe<sub>2</sub>O<sub>3</sub>+MgO\"})"
      ],
      "execution_count": null,
      "outputs": []
    },
    {
      "cell_type": "markdown",
      "metadata": {
        "id": "KFQMYF-iSTFc"
      },
      "source": [
        ">>> ### **category plots**"
      ]
    },
    {
      "cell_type": "code",
      "metadata": {
        "id": "-FxIRSrNab6m"
      },
      "source": [
        "# filtering data into categories ('type')\n",
        "data_UCC                = data >> filter_by(X.type == 'UCC')\n",
        "data_igneous_composite  = data >> filter_by(X.type == 'igneous_composite')\n",
        "data_ucc_ss_dr          = data >> filter_by((X.type != 'igneous_composite') & (X.type != 'shale_composite') & (X.type != 'sand_composite'))                                         # for ACNK plot\n",
        "data_ic_sc_ss_dr        = data >> filter_by((X.type != 'UCC') & (X.type != 'sand_composite'))                                                                                       # for MFW plot\n",
        "data_ucc_ic             = data >> filter_by((X.type != 'shale_composite') & (X.type != 'suspended_sediment') & (X.type != 'denudation_regions') & (X.type != 'sand_composite'))     # for ACNKFM plot"
      ],
      "execution_count": null,
      "outputs": []
    },
    {
      "cell_type": "code",
      "metadata": {
        "id": "5pBDK2LKLAfN"
      },
      "source": [
        "# UCC in A - CN - K compositional space diagram after *Nesbitt and Young, 1982*\n",
        "ACNK_UCC = ternary(data_UCC, data_UCC['molar_Al2O3'], data_UCC['molar_CaO*'] + data_UCC['molar_Na2O'], data_UCC['molar_K2O'], data_UCC['sample'], data_UCC['sample'], {\"a\": \"Al<sub>2</sub>O<sub>3</sub>\", \"b\": \"CaO*+Na<sub>2</sub>O\", \"c\": \"K<sub>2</sub>O\"})"
      ],
      "execution_count": null,
      "outputs": []
    },
    {
      "cell_type": "code",
      "metadata": {
        "id": "t69zr1bQU8pd"
      },
      "source": [
        "# igneous_composite in A - CN - K compositional space diagram after *Nesbitt and Young, 1982*\n",
        "ACNK_igneous_composite = ternary(data_igneous_composite, data_igneous_composite['molar_Al2O3'], data_igneous_composite['molar_CaO*'] + data_igneous_composite['molar_Na2O'], data_igneous_composite['molar_K2O'], data_igneous_composite['sample'], data_igneous_composite['sample'], {\"a\": \"Al<sub>2</sub>O<sub>3</sub>\", \"b\": \"CaO*+Na<sub>2</sub>O\", \"c\": \"K<sub>2</sub>O\"})"
      ],
      "execution_count": null,
      "outputs": []
    },
    {
      "cell_type": "code",
      "metadata": {
        "id": "SCsmIxCmkKso"
      },
      "source": [
        "# ucc_sc_ss_dr in A - CN - K compositional space diagram after *Nesbitt and Young, 1982*\n",
        "ACNK_ucc_ss_dr = ternary_cat(data_ucc_ss_dr, data_ucc_ss_dr['molar_Al2O3'], data_ucc_ss_dr['molar_CaO*'] + data_ucc_ss_dr['molar_Na2O'], data_ucc_ss_dr['molar_K2O'], data_ucc_ss_dr['sample'], data_ucc_ss_dr['type'], data_ucc_ss_dr['sample'], {\"a\": \"Al<sub>2</sub>O<sub>3</sub>\", \"b\": \"CaO*+Na<sub>2</sub>O\", \"c\": \"K<sub>2</sub>O\"})"
      ],
      "execution_count": null,
      "outputs": []
    },
    {
      "cell_type": "code",
      "metadata": {
        "id": "ZkX5nYKBXY_d"
      },
      "source": [
        "# UCC in M - F - W compositional space diagramm after *Ohta and Arai, 2007*\n",
        "MFW_UCC = ternary(data_UCC, data_UCC['(M)'], data_UCC['(F)'], data_UCC['(W)'], data_UCC['sample'], data_UCC['sample'], {\"a\": \"M\", \"b\": \"F\", \"c\": \"W\"})"
      ],
      "execution_count": null,
      "outputs": []
    },
    {
      "cell_type": "code",
      "metadata": {
        "id": "Zjoa8RadY3q6"
      },
      "source": [
        "# igneous_composite in M - F - W compositional space diagramm after *Ohta and Arai, 2007*\n",
        "MFW_igneous_composite = ternary(data_igneous_composite, data_igneous_composite['(M)'], data_igneous_composite['(F)'], data_igneous_composite['(W)'], data_igneous_composite['sample'], data_igneous_composite['sample'], {\"a\": \"M\", \"b\": \"F\", \"c\": \"W\"})"
      ],
      "execution_count": null,
      "outputs": []
    },
    {
      "cell_type": "code",
      "metadata": {
        "id": "xsW0W1ie7ACB"
      },
      "source": [
        "# ic_sc_ss_dr in M - F - W compositional space diagramm after *Ohta and Arai, 2007*\n",
        "MFW_ic_sc_ss_dr = ternary_cat(data_ic_sc_ss_dr, data_ic_sc_ss_dr['(M)'], data_ic_sc_ss_dr['(F)'], data_ic_sc_ss_dr['(W)'], data_ic_sc_ss_dr['sample'], data_ic_sc_ss_dr['type'], data_ic_sc_ss_dr['sample'], {\"a\": \"M\", \"b\": \"F\", \"c\": \"W\"})"
      ],
      "execution_count": null,
      "outputs": []
    },
    {
      "cell_type": "code",
      "metadata": {
        "id": "39_nLFGEZ7_3"
      },
      "source": [
        "# UCC in A - CNK - FM compositional space diagramm after *Nesbitt and Young, 1989*\n",
        "ACNKFM_UCC = ternary(data_UCC, data_UCC['molar_Al2O3'], data_UCC['molar_CaO*'] + data_UCC['molar_Na2O'] + data_UCC['molar_K2O'], data_UCC['molar_Fe2O3'] + data_UCC['molar_MgO'], data_UCC['sample'], data_UCC['sample'], {\"a\": \"Al<sub>2</sub>O<sub>3</sub>\", \"b\": \"CaO*+Na<sub>2</sub>O+K<sub>2</sub>O\", \"c\": \"Fe<sub>2</sub>O<sub>3</sub>+MgO\"})"
      ],
      "execution_count": null,
      "outputs": []
    },
    {
      "cell_type": "code",
      "metadata": {
        "id": "uIT1iqGaiOgv"
      },
      "source": [
        "# igneous_composite in A - CNK - FM compositional space diagramm after *Nesbitt and Young, 1989*\n",
        "ACNKFM_igneous_composite = ternary(data_igneous_composite, data_igneous_composite['molar_Al2O3'], data_igneous_composite['molar_CaO*'] + data_igneous_composite['molar_Na2O'] + data_igneous_composite['molar_K2O'], data_igneous_composite['molar_Fe2O3'] + data_igneous_composite['molar_MgO'], data_igneous_composite['sample'], data_igneous_composite['sample'], {\"a\": \"Al<sub>2</sub>O<sub>3</sub>\", \"b\": \"CaO*+Na<sub>2</sub>O+K<sub>2</sub>O\", \"c\": \"Fe<sub>2</sub>O<sub>3</sub>+MgO\"})"
      ],
      "execution_count": null,
      "outputs": []
    },
    {
      "cell_type": "code",
      "metadata": {
        "id": "rS9YCc7d9EW3"
      },
      "source": [
        "# ucc_ic in A - CNK - FM compositional space diagramm after *Nesbitt and Young, 1989*\n",
        "ACNKFM_ucc_ic = ternary_cat(data_ucc_ic, data_ucc_ic['molar_Al2O3'], data_ucc_ic['molar_CaO*'] + data_ucc_ic['molar_Na2O'] + data_ucc_ic['molar_K2O'], data_ucc_ic['molar_Fe2O3'] + data_ucc_ic['molar_MgO'], data_ucc_ic['sample'], data_ucc_ic['type'], data_ucc_ic['sample'], {\"a\": \"Al<sub>2</sub>O<sub>3</sub>\", \"b\": \"CaO*+Na<sub>2</sub>O\", \"c\": \"K<sub>2</sub>O\"})"
      ],
      "execution_count": null,
      "outputs": []
    },
    {
      "cell_type": "markdown",
      "metadata": {
        "id": "StE2WJVJowdD"
      },
      "source": [
        ">> ## **Dropping extra variable and subsetting data**"
      ]
    },
    {
      "cell_type": "markdown",
      "metadata": {
        "id": "9ojspa4SRXeB"
      },
      "source": [
        ">>> # **Ratios**"
      ]
    },
    {
      "cell_type": "markdown",
      "metadata": {
        "id": "9zMkDn4xdy0f"
      },
      "source": [
        "* $ SiO2/Al2O3 $\n",
        "* $ K2O/Al2O3 $ (Gallet et al., 1998; Deconinck et al., 2003)\n",
        "* $ Al2O3/TiO2 $\n",
        "* $ K2O/Th $ (Gallet et al., 1998; Deconinck et al., 2003)\n",
        "\n",
        "* $ Rb/Sr $\n",
        "* $ Ba/Sr $\n",
        "\n",
        "* $ La/Sc $\n",
        "* $ Cr/V $\n",
        "* $ Ni/Co $\n",
        "* $ V/Ni $\n",
        "* $ Zr/Nb $\n",
        "* $ Zr/Hf $\n",
        "\n",
        "* $ Th/U $ (McLennan et al., 1995; Gu et al., 2002\n",
        "* $ Th/Cr $\n",
        "* $ Th/Sc $\n",
        "* $ Th/Co $"
      ]
    },
    {
      "cell_type": "code",
      "metadata": {
        "id": "wNnRbvC3uT_B"
      },
      "source": [
        "data['SiO2/Al2O3'] = data['SiO2'] / data['Al2O3']\n",
        "data['K2O/Al2O3']  = data['K2O'] / data['Al2O3']\n",
        "data['Al2O3/TiO2'] = data['Al2O3'] / data['TiO2']\n",
        "data['K2O/Th']     = data['K2O'] / data['Th']\n",
        "data['Rb/Sr']      = data['Rb'] / data['Sr']\n",
        "data['Ba/Sr']      = data['Ba'] / data['Sr']\n",
        "data['La/Sc']      = data['La'] / data['Sc']\n",
        "data['Cr/V']       = data['Cr'] / data['V']\n",
        "data['Ni/Co']      = data['Ni'] / data['Co']\n",
        "data['V/Ni']       = data['V'] / data['Ni']\n",
        "data['Zr/Nb']      = data['Zr'] / data['Nb']\n",
        "data['Zr/Hf']      = data['Zr'] / data['Hf']\n",
        "data['Th/U']       = data['Th'] / data['U']\n",
        "data['Th/Cr']      = data['Th'] / data['Cr']\n",
        "data['Th/Sc']      = data['Th'] / data['Sc']\n",
        "data['Th/Co']      = data['Th'] / data['Co']\n",
        "\n",
        "case['SiO2/Al2O3'] = case['SiO2'] / case['Al2O3']\n",
        "case['K2O/Al2O3']  = case['K2O'] / case['Al2O3']\n",
        "case['Al2O3/TiO2'] = case['Al2O3'] / case['TiO2']\n",
        "\n",
        "\n",
        "# Normalization 'M', 'F' and 'W' values to 100\n",
        "data['(M)'] = 100 * data['(M)'] / (data['(M)'] + data['(F)'] + data['(W)'])\n",
        "data['(F)'] = 100 * data['(F)'] / (data['(M)'] + data['(F)'] + data['(W)'])\n",
        "data['(W)'] = 100 - (data['(M)'] + data['(F)'])\n",
        "\n",
        "case['(M)'] = 100 * case['(M)'] / (case['(M)'] + case['(F)'] + case['(W)'])\n",
        "case['(F)'] = 100 * case['(F)'] / (case['(M)'] + case['(F)'] + case['(W)'])\n",
        "case['(W)'] = 100 - (case['(M)'] + case['(F)'])"
      ],
      "execution_count": null,
      "outputs": []
    },
    {
      "cell_type": "markdown",
      "metadata": {
        "id": "E90E5HiwgV_K"
      },
      "source": [
        ">>> # **Data filtering**"
      ]
    },
    {
      "cell_type": "code",
      "metadata": {
        "id": "d4-hX-MVp0lv"
      },
      "source": [
        "data = data.drop(['CO2', 'molar_SiO2', 'molar_TiO2', 'molar_Al2O3', 'molar_Fe2O3', 'molar_MnO', 'molar_MgO', 'molar_CaO',\n",
        "                  'molar_Na2O', 'molar_K2O', 'molar_P2O5', 'molar_CO2', 'diff', 'molar_CaO*', 'sum', 'SiO2.100', 'TiO2.100',\n",
        "                  'Al2O3.100', 'Fe2O3.100', 'MgO.100', 'CaO.100', 'Na2O.100', 'K2O.100', '(M)', '(F)'], axis=1)\n",
        "\n",
        "case = case.drop(['CO2', 'molar_SiO2', 'molar_TiO2', 'molar_Al2O3', 'molar_Fe2O3', 'molar_MnO', 'molar_MgO', 'molar_CaO',\n",
        "                  'molar_Na2O', 'molar_K2O', 'molar_P2O5', 'molar_CO2', 'diff', 'molar_CaO*', 'sum', 'SiO2.100', 'TiO2.100',\n",
        "                  'Al2O3.100', 'Fe2O3.100', 'MgO.100', 'CaO.100', 'Na2O.100', 'K2O.100', '(M)', '(F)'], axis=1)"
      ],
      "execution_count": null,
      "outputs": []
    },
    {
      "cell_type": "markdown",
      "metadata": {
        "id": "bZnFrdLv1Vb2"
      },
      "source": [
        ">>> # **Subsetting data**"
      ]
    },
    {
      "cell_type": "code",
      "metadata": {
        "id": "jK6-oYBP1UYA"
      },
      "source": [
        "# subsetting of the data into 'proxy' with selected oxides, ratios and WIs\n",
        "proxy = data[[\"sample\", \"type\", \"ref\", \"SiO2\", \"TiO2\", \"Al2O3\", \"Fe2O3\", \"FeO\", \"MnO\", \"MgO\", \"CaO\", \"Na2O\", \"P2O5\", \"K2O\", \n",
        "              \"SiO2/Al2O3\", \"K2O/Al2O3\", \"Al2O3/TiO2\", \"K2O/Th\", \"Rb/Sr\", \"Ba/Sr\", \"La/Sc\", \"Cr/V\", \"Ni/Co\", \"V/Ni\", \"Zr/Nb\", \n",
        "              \"Zr/Hf\", \"Th/U\", \"Th/Cr\", \"Th/Sc\", \"Th/Co\", \"(CIW)\", \"(CPA)\", \"(CIA)\", \"(PIA)\", \"(CIX)\", \"(ICV)\", \"(WIP)\", \"(W)\"]]   \n",
        "\n",
        "# subsetting of the data into 'weath' with selected oxides, ratios (major elements) and WIs\n",
        "weath = case[[\"sample\", \"type\", \"ref\", \"SiO2\", \"TiO2\", \"Al2O3\", \"Fe2O3\", \"FeO\", \"MnO\", \"MgO\", \"CaO\", \"Na2O\", \"P2O5\", \"K2O\", \n",
        "              \"SiO2/Al2O3\", \"K2O/Al2O3\", \"Al2O3/TiO2\", \"(CIW)\", \"(CPA)\", \"(CIA)\", \"(PIA)\", \"(CIX)\", \"(ICV)\", \"(WIP)\", \"(W)\"]]         "
      ],
      "execution_count": null,
      "outputs": []
    },
    {
      "cell_type": "code",
      "metadata": {
        "id": "XqjQKmCVqvUD",
        "colab": {
          "base_uri": "https://localhost:8080/",
          "height": 17
        },
        "outputId": "f46780fe-a8a7-4fc0-b706-81665413850d"
      },
      "source": [
        "# Run the code to export the data file to the file hierarchy and to your local machine\n",
        "\n",
        "from google.colab import files\n",
        "\n",
        "data.to_csv('data.csv', index = False, float_format='%.2f')\n",
        "proxy.to_csv('proxy.csv', index = False, float_format='%.2f')\n",
        "weath.to_csv('weath.csv', index = False, float_format='%.2f')\n",
        "\n",
        "# Refresh the file hierarchy if not visible\n",
        "\n",
        "files.download('data.csv')\n",
        "files.download('proxy.csv')\n",
        "files.download('weath.csv')"
      ],
      "execution_count": null,
      "outputs": [
        {
          "output_type": "display_data",
          "data": {
            "application/javascript": [
              "\n",
              "    async function download(id, filename, size) {\n",
              "      if (!google.colab.kernel.accessAllowed) {\n",
              "        return;\n",
              "      }\n",
              "      const div = document.createElement('div');\n",
              "      const label = document.createElement('label');\n",
              "      label.textContent = `Downloading \"${filename}\": `;\n",
              "      div.appendChild(label);\n",
              "      const progress = document.createElement('progress');\n",
              "      progress.max = size;\n",
              "      div.appendChild(progress);\n",
              "      document.body.appendChild(div);\n",
              "\n",
              "      const buffers = [];\n",
              "      let downloaded = 0;\n",
              "\n",
              "      const channel = await google.colab.kernel.comms.open(id);\n",
              "      // Send a message to notify the kernel that we're ready.\n",
              "      channel.send({})\n",
              "\n",
              "      for await (const message of channel.messages) {\n",
              "        // Send a message to notify the kernel that we're ready.\n",
              "        channel.send({})\n",
              "        if (message.buffers) {\n",
              "          for (const buffer of message.buffers) {\n",
              "            buffers.push(buffer);\n",
              "            downloaded += buffer.byteLength;\n",
              "            progress.value = downloaded;\n",
              "          }\n",
              "        }\n",
              "      }\n",
              "      const blob = new Blob(buffers, {type: 'application/binary'});\n",
              "      const a = document.createElement('a');\n",
              "      a.href = window.URL.createObjectURL(blob);\n",
              "      a.download = filename;\n",
              "      div.appendChild(a);\n",
              "      a.click();\n",
              "      div.remove();\n",
              "    }\n",
              "  "
            ],
            "text/plain": [
              "<IPython.core.display.Javascript object>"
            ]
          },
          "metadata": {}
        },
        {
          "output_type": "display_data",
          "data": {
            "application/javascript": [
              "download(\"download_977b2b88-811a-437f-86ba-1700a5635a27\", \"data.csv\", 19979)"
            ],
            "text/plain": [
              "<IPython.core.display.Javascript object>"
            ]
          },
          "metadata": {}
        },
        {
          "output_type": "display_data",
          "data": {
            "application/javascript": [
              "\n",
              "    async function download(id, filename, size) {\n",
              "      if (!google.colab.kernel.accessAllowed) {\n",
              "        return;\n",
              "      }\n",
              "      const div = document.createElement('div');\n",
              "      const label = document.createElement('label');\n",
              "      label.textContent = `Downloading \"${filename}\": `;\n",
              "      div.appendChild(label);\n",
              "      const progress = document.createElement('progress');\n",
              "      progress.max = size;\n",
              "      div.appendChild(progress);\n",
              "      document.body.appendChild(div);\n",
              "\n",
              "      const buffers = [];\n",
              "      let downloaded = 0;\n",
              "\n",
              "      const channel = await google.colab.kernel.comms.open(id);\n",
              "      // Send a message to notify the kernel that we're ready.\n",
              "      channel.send({})\n",
              "\n",
              "      for await (const message of channel.messages) {\n",
              "        // Send a message to notify the kernel that we're ready.\n",
              "        channel.send({})\n",
              "        if (message.buffers) {\n",
              "          for (const buffer of message.buffers) {\n",
              "            buffers.push(buffer);\n",
              "            downloaded += buffer.byteLength;\n",
              "            progress.value = downloaded;\n",
              "          }\n",
              "        }\n",
              "      }\n",
              "      const blob = new Blob(buffers, {type: 'application/binary'});\n",
              "      const a = document.createElement('a');\n",
              "      a.href = window.URL.createObjectURL(blob);\n",
              "      a.download = filename;\n",
              "      div.appendChild(a);\n",
              "      a.click();\n",
              "      div.remove();\n",
              "    }\n",
              "  "
            ],
            "text/plain": [
              "<IPython.core.display.Javascript object>"
            ]
          },
          "metadata": {}
        },
        {
          "output_type": "display_data",
          "data": {
            "application/javascript": [
              "download(\"download_e057bb1a-f773-4fa0-96c8-ce528c56c5c9\", \"proxy.csv\", 12499)"
            ],
            "text/plain": [
              "<IPython.core.display.Javascript object>"
            ]
          },
          "metadata": {}
        },
        {
          "output_type": "display_data",
          "data": {
            "application/javascript": [
              "\n",
              "    async function download(id, filename, size) {\n",
              "      if (!google.colab.kernel.accessAllowed) {\n",
              "        return;\n",
              "      }\n",
              "      const div = document.createElement('div');\n",
              "      const label = document.createElement('label');\n",
              "      label.textContent = `Downloading \"${filename}\": `;\n",
              "      div.appendChild(label);\n",
              "      const progress = document.createElement('progress');\n",
              "      progress.max = size;\n",
              "      div.appendChild(progress);\n",
              "      document.body.appendChild(div);\n",
              "\n",
              "      const buffers = [];\n",
              "      let downloaded = 0;\n",
              "\n",
              "      const channel = await google.colab.kernel.comms.open(id);\n",
              "      // Send a message to notify the kernel that we're ready.\n",
              "      channel.send({})\n",
              "\n",
              "      for await (const message of channel.messages) {\n",
              "        // Send a message to notify the kernel that we're ready.\n",
              "        channel.send({})\n",
              "        if (message.buffers) {\n",
              "          for (const buffer of message.buffers) {\n",
              "            buffers.push(buffer);\n",
              "            downloaded += buffer.byteLength;\n",
              "            progress.value = downloaded;\n",
              "          }\n",
              "        }\n",
              "      }\n",
              "      const blob = new Blob(buffers, {type: 'application/binary'});\n",
              "      const a = document.createElement('a');\n",
              "      a.href = window.URL.createObjectURL(blob);\n",
              "      a.download = filename;\n",
              "      div.appendChild(a);\n",
              "      a.click();\n",
              "      div.remove();\n",
              "    }\n",
              "  "
            ],
            "text/plain": [
              "<IPython.core.display.Javascript object>"
            ]
          },
          "metadata": {}
        },
        {
          "output_type": "display_data",
          "data": {
            "application/javascript": [
              "download(\"download_551a72b2-a41f-4198-af79-dbbd27c74199\", \"weath.csv\", 7921)"
            ],
            "text/plain": [
              "<IPython.core.display.Javascript object>"
            ]
          },
          "metadata": {}
        }
      ]
    },
    {
      "cell_type": "markdown",
      "metadata": {
        "id": "LWiKLlEbdaNt"
      },
      "source": [
        "> # **Data statistics**"
      ]
    },
    {
      "cell_type": "markdown",
      "metadata": {
        "id": "EbcVee3UxqNk"
      },
      "source": [
        ">> ## **Boxplots**"
      ]
    },
    {
      "cell_type": "code",
      "metadata": {
        "id": "imx0Wdnmy44a"
      },
      "source": [
        "proxy_ucc_ic_ss_dr = proxy >> filter_by((X.type != 'shale_composite') & (X.type != 'sand_composite')) \n",
        "\n",
        "weath_ls_ss_bs = weath >> filter_by((X.type != 'UCC') & (X.type != 'shale_composite') & (X.type != 'igneous_composite'))"
      ],
      "execution_count": null,
      "outputs": []
    },
    {
      "cell_type": "code",
      "metadata": {
        "id": "zi7iz_PThMWx"
      },
      "source": [
        "fig = px.box(proxy_ucc_ic_ss_dr, x=\"type\", y=\"(CIW)\", color=\"type\")\n",
        "\n",
        "fig.update_layout(\n",
        "    xaxis_title='sample type',\n",
        "    yaxis_title='CIW',\n",
        "    showlegend=False\n",
        "    )\n",
        "\n",
        "fig.show()\n",
        "\n",
        "# file export to the file hierarchy\n",
        "fig.write_html(\"Boxplot of CIW variations for suspended sediment and Denudation regions.html\")\n",
        "files.download('Boxplot of CIW variations for suspended sediment and Denudation regions.html')\n",
        "\n",
        "# uncomment below line of code to export the file to your local machine\n",
        "#iplot(fig, image='svg', filename='Boxplot of CIW variations for suspended sediment and Denudation regions', image_width=1280, image_height=1280)\n",
        "\n",
        "fig = px.box(weath_ls_ss_bs, x=\"type\", y=\"(CIW)\", color=\"type\")\n",
        "\n",
        "fig.update_layout(\n",
        "    xaxis_title='sample type',\n",
        "    yaxis_title='CIW',\n",
        "    showlegend=False\n",
        "    )\n",
        "\n",
        "fig.show()\n",
        "\n",
        "# file export to the file hierarchy\n",
        "fig.write_html(\"Boxplot of CIW variations for lake sediment, Surma sandstone and Barail sandstone.html\")\n",
        "files.download('Boxplot of CIW variations for lake sediment, Surma sandstone and Barail sandstone.html')\n",
        "\n",
        "# uncomment below line of code to export the file to your local machine\n",
        "#iplot(fig, image='svg', filename='Boxplot of CIW variations for lake sediment, Surma sandstone and Barail sandstone', image_width=1280, image_height=1280)"
      ],
      "execution_count": null,
      "outputs": []
    },
    {
      "cell_type": "code",
      "metadata": {
        "id": "WHbsbv8Jy8SM"
      },
      "source": [
        "fig = px.box(proxy_ucc_ic_ss_dr, x=\"type\", y=\"(CPA)\", color=\"type\")\n",
        "\n",
        "fig.update_layout(\n",
        "    xaxis_title='sample type',\n",
        "    yaxis_title='CPA',\n",
        "    showlegend=False\n",
        "    )\n",
        "\n",
        "fig.show()\n",
        "\n",
        "# file export to the file hierarchy\n",
        "fig.write_html(\"Boxplot of CPA variations for suspended sediment and Denudation regions.html\")\n",
        "files.download('Boxplot of CPA variations for suspended sediment and Denudation regions.html')\n",
        "\n",
        "# uncomment below line of code to export the file to your local machine\n",
        "#iplot(fig, image='svg', filename='Boxplot of CPA variations for suspended sediment and Denudation regions', image_width=1280, image_height=1280)\n",
        "\n",
        "fig = px.box(weath_ls_ss_bs, x=\"type\", y=\"(CPA)\", color=\"type\")\n",
        "\n",
        "fig.update_layout(\n",
        "    xaxis_title='sample type',\n",
        "    yaxis_title='CPA',\n",
        "    showlegend=False\n",
        "    )\n",
        "\n",
        "fig.show()\n",
        "\n",
        "# file export to the file hierarchy\n",
        "fig.write_html(\"Boxplot of CPA variations for lake sediment, Surma sandstone and Barail sandstone.html\")\n",
        "files.download('Boxplot of CPA variations for lake sediment, Surma sandstone and Barail sandstone.html')\n",
        "\n",
        "# uncomment below line of code to export the file to your local machine\n",
        "#iplot(fig, image='svg', filename='Boxplot of CPA variations for lake sediment, Surma sandstone and Barail sandstone', image_width=1280, image_height=1280)"
      ],
      "execution_count": null,
      "outputs": []
    },
    {
      "cell_type": "code",
      "metadata": {
        "id": "wnRR5DtyzbN9"
      },
      "source": [
        "fig = px.box(proxy_ucc_ic_ss_dr, x=\"type\", y=\"(CIA)\", color=\"type\")\n",
        "\n",
        "fig.update_layout(\n",
        "    xaxis_title='sample type',\n",
        "    yaxis_title='CIA',\n",
        "    showlegend=False\n",
        "    )\n",
        "\n",
        "fig.show()\n",
        "\n",
        "# file export to the file hierarchy\n",
        "fig.write_html(\"Boxplot of CIA variations for suspended sediment and Denudation regions.html\")\n",
        "files.download('Boxplot of CIA variations for suspended sediment and Denudation regions.html')\n",
        "\n",
        "# uncomment below line of code to export the file to your local machine\n",
        "#iplot(fig, image='svg', filename='Boxplot of CIA variations for suspended sediment and Denudation regions', image_width=1280, image_height=1280)\n",
        "\n",
        "fig = px.box(weath_ls_ss_bs, x=\"type\", y=\"(CIA)\", color=\"type\")\n",
        "\n",
        "fig.update_layout(\n",
        "    xaxis_title='sample type',\n",
        "    yaxis_title='CIA',\n",
        "    showlegend=False\n",
        "    )\n",
        "\n",
        "fig.show()\n",
        "\n",
        "\n",
        "# file export to the file hierarchy\n",
        "fig.write_html(\"Boxplot of CIA variations for lake sediment, Surma sandstone and Barail sandstone.html\")\n",
        "files.download('Boxplot of CIA variations for lake sediment, Surma sandstone and Barail sandstone.html')\n",
        "\n",
        "# uncomment below line of code to export the file to your local machine\n",
        "#iplot(fig, image='svg', filename='Boxplot of CIA variations for lake sediment, Surma sandstone and Barail sandstone', image_width=1280, image_height=1280)"
      ],
      "execution_count": null,
      "outputs": []
    },
    {
      "cell_type": "code",
      "metadata": {
        "id": "G64iegiqzn3F"
      },
      "source": [
        "fig = px.box(proxy_ucc_ic_ss_dr, x=\"type\", y=\"(PIA)\", color=\"type\")\n",
        "\n",
        "fig.update_layout(\n",
        "    xaxis_title='sample type',\n",
        "    yaxis_title='PIA',\n",
        "    showlegend=False\n",
        "    )\n",
        "\n",
        "fig.show()\n",
        "\n",
        "# file export to the file hierarchy\n",
        "fig.write_html(\"Boxplot of PIA variations for suspended sediment and Denudation regions.html\")\n",
        "files.download('Boxplot of PIA variations for suspended sediment and Denudation regions.html')\n",
        "\n",
        "# uncomment below line of code to export the file to your local machine\n",
        "#iplot(fig, image='svg', filename='Boxplot of PIA variations for suspended sediment and Denudation regions', image_width=1280, image_height=1280)\n",
        "\n",
        "fig = px.box(weath_ls_ss_bs, x=\"type\", y=\"(PIA)\", color=\"type\")\n",
        "\n",
        "fig.update_layout(\n",
        "    xaxis_title='sample type',\n",
        "    yaxis_title='PIA',\n",
        "    showlegend=False\n",
        "    )\n",
        "\n",
        "fig.show()\n",
        "\n",
        "# file export to the file hierarchy\n",
        "fig.write_html(\"Boxplot of PIA variations for lake sediment, Surma sandstone and Barail sandstone.html\")\n",
        "files.download('Boxplot of PIA variations for lake sediment, Surma sandstone and Barail sandstone.html')\n",
        "\n",
        "# uncomment below line of code to export the file to your local machine\n",
        "#iplot(fig, image='svg', filename='Boxplot of PIA variations for lake sediment, Surma sandstone and Barail sandstone', image_width=1280, image_height=1280)"
      ],
      "execution_count": null,
      "outputs": []
    },
    {
      "cell_type": "code",
      "metadata": {
        "id": "6sUW74jIzuVw"
      },
      "source": [
        "fig = px.box(proxy_ucc_ic_ss_dr, x=\"type\", y=\"(CIX)\", color=\"type\")\n",
        "\n",
        "fig.update_layout(\n",
        "    xaxis_title='sample type',\n",
        "    yaxis_title='CIX',\n",
        "    showlegend=False\n",
        "    )\n",
        "\n",
        "fig.show()\n",
        "\n",
        "# file export to the file hierarchy\n",
        "fig.write_html(\"Boxplot of CIX variations for suspended sediment and Denudation regions.html\")\n",
        "files.download('Boxplot of CIX variations for suspended sediment and Denudation regions.html')\n",
        "\n",
        "# uncomment below line of code to export the file to your local machine\n",
        "#iplot(fig, image='svg', filename='Boxplot of CIX variations for suspended sediment and Denudation regions', image_width=1280, image_height=1280)\n",
        "\n",
        "\n",
        "fig = px.box(weath_ls_ss_bs, x=\"type\", y=\"(CIX)\", color=\"type\")\n",
        "\n",
        "fig.update_layout(\n",
        "    xaxis_title='sample type',\n",
        "    yaxis_title='CIX',\n",
        "    showlegend=False\n",
        "    )\n",
        "\n",
        "fig.show()\n",
        "\n",
        "# file export to the file hierarchy\n",
        "fig.write_html(\"Boxplot of CIX variations for lake sediment, Surma sandstone and Barail sandstone.html\")\n",
        "files.download('Boxplot of CIX variations for lake sediment, Surma sandstone and Barail sandstone.html')\n",
        "\n",
        "# uncomment below line of code to export the file to your local machine\n",
        "#iplot(fig, image='svg', filename='Boxplot of CIX variations for lake sediment, Surma sandstone and Barail sandstone', image_width=1280, image_height=1280)"
      ],
      "execution_count": null,
      "outputs": []
    },
    {
      "cell_type": "code",
      "metadata": {
        "id": "IInMlKwBz7tF"
      },
      "source": [
        "fig = px.box(proxy_ucc_ic_ss_dr, x=\"type\", y=\"(W)\", color=\"type\")\n",
        "\n",
        "fig.update_layout(\n",
        "    xaxis_title='sample type',\n",
        "    yaxis_title='W',\n",
        "    showlegend=False\n",
        "    )\n",
        "\n",
        "fig.show()\n",
        "\n",
        "# file export to the file hierarchy\n",
        "fig.write_html(\"Boxplot of W variations for suspended sediment and Denudation regions.html\")\n",
        "files.download('Boxplot of W variations for suspended sediment and Denudation regions.html')\n",
        "\n",
        "# uncomment below line of code to export the file to your local machine\n",
        "#iplot(fig, image='svg', filename='Boxplot of W variations for suspended sediment and Denudation regions', image_width=1280, image_height=1280)\n",
        "\n",
        "\n",
        "fig = px.box(weath_ls_ss_bs, x=\"type\", y=\"(W)\", color=\"type\")\n",
        "\n",
        "fig.update_layout(\n",
        "    xaxis_title='sample type',\n",
        "    yaxis_title='W',\n",
        "    showlegend=False\n",
        "    )\n",
        "\n",
        "fig.show()\n",
        "\n",
        "# file export to the file hierarchy\n",
        "fig.write_html(\"Boxplot of W variations for lake sediment, Surma sandstone and Barail sandstone.html\")\n",
        "files.download('Boxplot of W variations for lake sediment, Surma sandstone and Barail sandstone.html')\n",
        "\n",
        "# uncomment below line of code to export the file to your local machine\n",
        "#iplot(fig, image='svg', filename='Boxplot of W variations for lake sediment, Surma sandstone and Barail sandstone', image_width=1280, image_height=1280)"
      ],
      "execution_count": null,
      "outputs": []
    },
    {
      "cell_type": "markdown",
      "metadata": {
        "id": "ebdX7karAUeP"
      },
      "source": [
        ">> ## **Correlation matrix**"
      ]
    },
    {
      "cell_type": "code",
      "metadata": {
        "id": "pPa_lqanDuBF"
      },
      "source": [
        "# subsetting data ('proxy' and 'weath')\n",
        "proxy_ucc          = proxy_ucc_ic_ss_dr >> filter_by(X.type == 'UCC')\n",
        "\n",
        "proxy_ucc_ic_ss_dr = proxy_ucc_ic_ss_dr.drop(['K2O/Th', 'Rb/Sr', 'Ba/Sr', 'La/Sc', 'Cr/V', 'Ni/Co', 'V/Ni', 'Zr/Nb', 'Zr/Hf', 'Th/U', 'Th/Cr', 'Th/Sc', 'Th/Co'], axis=1)\n",
        "proxy_ic           = proxy_ucc_ic_ss_dr >> filter_by(X.type == 'igneous_composite')\n",
        "\n",
        "proxy_ss_dr        = proxy_ucc_ic_ss_dr >> filter_by((X.type != 'UCC') & (X.type != 'igneous_composite'))\n",
        "\n",
        "\n",
        "weath_ls           = weath_ls_ss_bs >> filter_by((X.type != 'Surma_sandstone') & (X.type != 'Barail_sandstone'))\n",
        "\n",
        "weath_ss           = weath_ls_ss_bs >> filter_by((X.type != 'lake_sediment') & (X.type != 'Barail_sandstone'))\n",
        "\n",
        "weath_bs           = weath_ls_ss_bs >> filter_by((X.type != 'Surma_sandstone') & (X.type != 'lake_sediment'))"
      ],
      "execution_count": null,
      "outputs": []
    },
    {
      "cell_type": "code",
      "metadata": {
        "id": "H1qXdu4tAQii"
      },
      "source": [
        "# correlation matrix of type ('ucc', 'ic', 'ss_dr')\n",
        "corrMatrix_proxy_ucc   = round(proxy_ucc.corr(), 2)\n",
        "corrMatrix_proxy_ic    = round(proxy_ic.corr(), 2)\n",
        "corrMatrix_proxy_ss_dr = round(proxy_ss_dr.corr(), 2)\n",
        "\n",
        "# correlation matrix of type ('ls', 'ss', 'bs')\n",
        "corrMatrix_weath_ls   = round(weath_ls.corr(), 2)\n",
        "corrMatrix_weath_ss    = round(weath_ss.corr(), 2)\n",
        "corrMatrix_weath_bs = round(weath_bs.corr(), 2)"
      ],
      "execution_count": null,
      "outputs": []
    },
    {
      "cell_type": "code",
      "metadata": {
        "id": "4R52VJZJaGRe",
        "colab": {
          "base_uri": "https://localhost:8080/",
          "height": 17
        },
        "outputId": "a54e5c9e-5be2-4507-8019-c64130877454"
      },
      "source": [
        "# Run the code to export the data file to the file hierarchy and to your local machine\n",
        "\n",
        "from google.colab import files\n",
        "\n",
        "corrMatrix_proxy_ucc.to_csv('corrMatrix_proxy_ucc.csv', float_format='%.2f')\n",
        "corrMatrix_proxy_ic.to_csv('corrMatrix_proxy_ic.csv', float_format='%.2f')\n",
        "corrMatrix_proxy_ss_dr.to_csv('corrMatrix_proxy_ss_dr.csv', float_format='%.2f')\n",
        "\n",
        "corrMatrix_weath_ls.to_csv('corrMatrix_weath_ls.csv', float_format='%.2f')\n",
        "corrMatrix_weath_ss.to_csv('corrMatrix_weath_ss.csv', float_format='%.2f')\n",
        "corrMatrix_weath_bs.to_csv('corrMatrix_weath_bs.csv', float_format='%.2f')\n",
        "\n",
        "# Refresh the file hierarchy if not visible\n",
        "\n",
        "\n",
        "files.download('corrMatrix_proxy_ucc.csv')\n",
        "files.download('corrMatrix_proxy_ic.csv')\n",
        "files.download('corrMatrix_proxy_ss_dr.csv')\n",
        "\n",
        "files.download('corrMatrix_weath_ls.csv')\n",
        "files.download('corrMatrix_weath_ss.csv')\n",
        "files.download('corrMatrix_weath_bs.csv')"
      ],
      "execution_count": null,
      "outputs": [
        {
          "output_type": "display_data",
          "data": {
            "application/javascript": [
              "\n",
              "    async function download(id, filename, size) {\n",
              "      if (!google.colab.kernel.accessAllowed) {\n",
              "        return;\n",
              "      }\n",
              "      const div = document.createElement('div');\n",
              "      const label = document.createElement('label');\n",
              "      label.textContent = `Downloading \"${filename}\": `;\n",
              "      div.appendChild(label);\n",
              "      const progress = document.createElement('progress');\n",
              "      progress.max = size;\n",
              "      div.appendChild(progress);\n",
              "      document.body.appendChild(div);\n",
              "\n",
              "      const buffers = [];\n",
              "      let downloaded = 0;\n",
              "\n",
              "      const channel = await google.colab.kernel.comms.open(id);\n",
              "      // Send a message to notify the kernel that we're ready.\n",
              "      channel.send({})\n",
              "\n",
              "      for await (const message of channel.messages) {\n",
              "        // Send a message to notify the kernel that we're ready.\n",
              "        channel.send({})\n",
              "        if (message.buffers) {\n",
              "          for (const buffer of message.buffers) {\n",
              "            buffers.push(buffer);\n",
              "            downloaded += buffer.byteLength;\n",
              "            progress.value = downloaded;\n",
              "          }\n",
              "        }\n",
              "      }\n",
              "      const blob = new Blob(buffers, {type: 'application/binary'});\n",
              "      const a = document.createElement('a');\n",
              "      a.href = window.URL.createObjectURL(blob);\n",
              "      a.download = filename;\n",
              "      div.appendChild(a);\n",
              "      a.click();\n",
              "      div.remove();\n",
              "    }\n",
              "  "
            ],
            "text/plain": [
              "<IPython.core.display.Javascript object>"
            ]
          },
          "metadata": {}
        },
        {
          "output_type": "display_data",
          "data": {
            "application/javascript": [
              "download(\"download_21bd123c-7eaa-4105-b004-f9443bff6988\", \"corrMatrix_proxy_ucc.csv\", 7148)"
            ],
            "text/plain": [
              "<IPython.core.display.Javascript object>"
            ]
          },
          "metadata": {}
        },
        {
          "output_type": "display_data",
          "data": {
            "application/javascript": [
              "\n",
              "    async function download(id, filename, size) {\n",
              "      if (!google.colab.kernel.accessAllowed) {\n",
              "        return;\n",
              "      }\n",
              "      const div = document.createElement('div');\n",
              "      const label = document.createElement('label');\n",
              "      label.textContent = `Downloading \"${filename}\": `;\n",
              "      div.appendChild(label);\n",
              "      const progress = document.createElement('progress');\n",
              "      progress.max = size;\n",
              "      div.appendChild(progress);\n",
              "      document.body.appendChild(div);\n",
              "\n",
              "      const buffers = [];\n",
              "      let downloaded = 0;\n",
              "\n",
              "      const channel = await google.colab.kernel.comms.open(id);\n",
              "      // Send a message to notify the kernel that we're ready.\n",
              "      channel.send({})\n",
              "\n",
              "      for await (const message of channel.messages) {\n",
              "        // Send a message to notify the kernel that we're ready.\n",
              "        channel.send({})\n",
              "        if (message.buffers) {\n",
              "          for (const buffer of message.buffers) {\n",
              "            buffers.push(buffer);\n",
              "            downloaded += buffer.byteLength;\n",
              "            progress.value = downloaded;\n",
              "          }\n",
              "        }\n",
              "      }\n",
              "      const blob = new Blob(buffers, {type: 'application/binary'});\n",
              "      const a = document.createElement('a');\n",
              "      a.href = window.URL.createObjectURL(blob);\n",
              "      a.download = filename;\n",
              "      div.appendChild(a);\n",
              "      a.click();\n",
              "      div.remove();\n",
              "    }\n",
              "  "
            ],
            "text/plain": [
              "<IPython.core.display.Javascript object>"
            ]
          },
          "metadata": {}
        },
        {
          "output_type": "display_data",
          "data": {
            "application/javascript": [
              "download(\"download_24a02d7c-6168-4f57-aec6-d951d1c60888\", \"corrMatrix_proxy_ic.csv\", 2927)"
            ],
            "text/plain": [
              "<IPython.core.display.Javascript object>"
            ]
          },
          "metadata": {}
        },
        {
          "output_type": "display_data",
          "data": {
            "application/javascript": [
              "\n",
              "    async function download(id, filename, size) {\n",
              "      if (!google.colab.kernel.accessAllowed) {\n",
              "        return;\n",
              "      }\n",
              "      const div = document.createElement('div');\n",
              "      const label = document.createElement('label');\n",
              "      label.textContent = `Downloading \"${filename}\": `;\n",
              "      div.appendChild(label);\n",
              "      const progress = document.createElement('progress');\n",
              "      progress.max = size;\n",
              "      div.appendChild(progress);\n",
              "      document.body.appendChild(div);\n",
              "\n",
              "      const buffers = [];\n",
              "      let downloaded = 0;\n",
              "\n",
              "      const channel = await google.colab.kernel.comms.open(id);\n",
              "      // Send a message to notify the kernel that we're ready.\n",
              "      channel.send({})\n",
              "\n",
              "      for await (const message of channel.messages) {\n",
              "        // Send a message to notify the kernel that we're ready.\n",
              "        channel.send({})\n",
              "        if (message.buffers) {\n",
              "          for (const buffer of message.buffers) {\n",
              "            buffers.push(buffer);\n",
              "            downloaded += buffer.byteLength;\n",
              "            progress.value = downloaded;\n",
              "          }\n",
              "        }\n",
              "      }\n",
              "      const blob = new Blob(buffers, {type: 'application/binary'});\n",
              "      const a = document.createElement('a');\n",
              "      a.href = window.URL.createObjectURL(blob);\n",
              "      a.download = filename;\n",
              "      div.appendChild(a);\n",
              "      a.click();\n",
              "      div.remove();\n",
              "    }\n",
              "  "
            ],
            "text/plain": [
              "<IPython.core.display.Javascript object>"
            ]
          },
          "metadata": {}
        },
        {
          "output_type": "display_data",
          "data": {
            "application/javascript": [
              "download(\"download_80cc52fd-332f-4cfd-83ae-24f3b146d3ec\", \"corrMatrix_proxy_ss_dr.csv\", 2925)"
            ],
            "text/plain": [
              "<IPython.core.display.Javascript object>"
            ]
          },
          "metadata": {}
        },
        {
          "output_type": "display_data",
          "data": {
            "application/javascript": [
              "\n",
              "    async function download(id, filename, size) {\n",
              "      if (!google.colab.kernel.accessAllowed) {\n",
              "        return;\n",
              "      }\n",
              "      const div = document.createElement('div');\n",
              "      const label = document.createElement('label');\n",
              "      label.textContent = `Downloading \"${filename}\": `;\n",
              "      div.appendChild(label);\n",
              "      const progress = document.createElement('progress');\n",
              "      progress.max = size;\n",
              "      div.appendChild(progress);\n",
              "      document.body.appendChild(div);\n",
              "\n",
              "      const buffers = [];\n",
              "      let downloaded = 0;\n",
              "\n",
              "      const channel = await google.colab.kernel.comms.open(id);\n",
              "      // Send a message to notify the kernel that we're ready.\n",
              "      channel.send({})\n",
              "\n",
              "      for await (const message of channel.messages) {\n",
              "        // Send a message to notify the kernel that we're ready.\n",
              "        channel.send({})\n",
              "        if (message.buffers) {\n",
              "          for (const buffer of message.buffers) {\n",
              "            buffers.push(buffer);\n",
              "            downloaded += buffer.byteLength;\n",
              "            progress.value = downloaded;\n",
              "          }\n",
              "        }\n",
              "      }\n",
              "      const blob = new Blob(buffers, {type: 'application/binary'});\n",
              "      const a = document.createElement('a');\n",
              "      a.href = window.URL.createObjectURL(blob);\n",
              "      a.download = filename;\n",
              "      div.appendChild(a);\n",
              "      a.click();\n",
              "      div.remove();\n",
              "    }\n",
              "  "
            ],
            "text/plain": [
              "<IPython.core.display.Javascript object>"
            ]
          },
          "metadata": {}
        },
        {
          "output_type": "display_data",
          "data": {
            "application/javascript": [
              "download(\"download_e1bef296-e5d4-4b3a-9458-71a87d2b864c\", \"corrMatrix_weath_ls.csv\", 2881)"
            ],
            "text/plain": [
              "<IPython.core.display.Javascript object>"
            ]
          },
          "metadata": {}
        },
        {
          "output_type": "display_data",
          "data": {
            "application/javascript": [
              "\n",
              "    async function download(id, filename, size) {\n",
              "      if (!google.colab.kernel.accessAllowed) {\n",
              "        return;\n",
              "      }\n",
              "      const div = document.createElement('div');\n",
              "      const label = document.createElement('label');\n",
              "      label.textContent = `Downloading \"${filename}\": `;\n",
              "      div.appendChild(label);\n",
              "      const progress = document.createElement('progress');\n",
              "      progress.max = size;\n",
              "      div.appendChild(progress);\n",
              "      document.body.appendChild(div);\n",
              "\n",
              "      const buffers = [];\n",
              "      let downloaded = 0;\n",
              "\n",
              "      const channel = await google.colab.kernel.comms.open(id);\n",
              "      // Send a message to notify the kernel that we're ready.\n",
              "      channel.send({})\n",
              "\n",
              "      for await (const message of channel.messages) {\n",
              "        // Send a message to notify the kernel that we're ready.\n",
              "        channel.send({})\n",
              "        if (message.buffers) {\n",
              "          for (const buffer of message.buffers) {\n",
              "            buffers.push(buffer);\n",
              "            downloaded += buffer.byteLength;\n",
              "            progress.value = downloaded;\n",
              "          }\n",
              "        }\n",
              "      }\n",
              "      const blob = new Blob(buffers, {type: 'application/binary'});\n",
              "      const a = document.createElement('a');\n",
              "      a.href = window.URL.createObjectURL(blob);\n",
              "      a.download = filename;\n",
              "      div.appendChild(a);\n",
              "      a.click();\n",
              "      div.remove();\n",
              "    }\n",
              "  "
            ],
            "text/plain": [
              "<IPython.core.display.Javascript object>"
            ]
          },
          "metadata": {}
        },
        {
          "output_type": "display_data",
          "data": {
            "application/javascript": [
              "download(\"download_7341fa25-4ef2-4c5c-b8aa-a99ba35065c7\", \"corrMatrix_weath_ss.csv\", 2893)"
            ],
            "text/plain": [
              "<IPython.core.display.Javascript object>"
            ]
          },
          "metadata": {}
        },
        {
          "output_type": "display_data",
          "data": {
            "application/javascript": [
              "\n",
              "    async function download(id, filename, size) {\n",
              "      if (!google.colab.kernel.accessAllowed) {\n",
              "        return;\n",
              "      }\n",
              "      const div = document.createElement('div');\n",
              "      const label = document.createElement('label');\n",
              "      label.textContent = `Downloading \"${filename}\": `;\n",
              "      div.appendChild(label);\n",
              "      const progress = document.createElement('progress');\n",
              "      progress.max = size;\n",
              "      div.appendChild(progress);\n",
              "      document.body.appendChild(div);\n",
              "\n",
              "      const buffers = [];\n",
              "      let downloaded = 0;\n",
              "\n",
              "      const channel = await google.colab.kernel.comms.open(id);\n",
              "      // Send a message to notify the kernel that we're ready.\n",
              "      channel.send({})\n",
              "\n",
              "      for await (const message of channel.messages) {\n",
              "        // Send a message to notify the kernel that we're ready.\n",
              "        channel.send({})\n",
              "        if (message.buffers) {\n",
              "          for (const buffer of message.buffers) {\n",
              "            buffers.push(buffer);\n",
              "            downloaded += buffer.byteLength;\n",
              "            progress.value = downloaded;\n",
              "          }\n",
              "        }\n",
              "      }\n",
              "      const blob = new Blob(buffers, {type: 'application/binary'});\n",
              "      const a = document.createElement('a');\n",
              "      a.href = window.URL.createObjectURL(blob);\n",
              "      a.download = filename;\n",
              "      div.appendChild(a);\n",
              "      a.click();\n",
              "      div.remove();\n",
              "    }\n",
              "  "
            ],
            "text/plain": [
              "<IPython.core.display.Javascript object>"
            ]
          },
          "metadata": {}
        },
        {
          "output_type": "display_data",
          "data": {
            "application/javascript": [
              "download(\"download_f33d970d-956d-41f1-a3fb-85d13d1bf7d3\", \"corrMatrix_weath_bs.csv\", 2891)"
            ],
            "text/plain": [
              "<IPython.core.display.Javascript object>"
            ]
          },
          "metadata": {}
        }
      ]
    },
    {
      "cell_type": "code",
      "metadata": {
        "id": "W2WIBK7qHxJJ"
      },
      "source": [
        "# Visual representation of correlation matrix of type ('ucc')\n",
        "corrMatrix_proxy_ucc.style.background_gradient(cmap='coolwarm', axis=None).set_precision(2)"
      ],
      "execution_count": null,
      "outputs": []
    },
    {
      "cell_type": "code",
      "metadata": {
        "id": "xhkY07s3Hyxq"
      },
      "source": [
        "# Visual representation of correlation matrix of type ('ic')\n",
        "corrMatrix_proxy_ic.style.background_gradient(cmap='coolwarm', axis=None).set_precision(2)"
      ],
      "execution_count": null,
      "outputs": []
    },
    {
      "cell_type": "code",
      "metadata": {
        "id": "TnH3ZGDBAvC5"
      },
      "source": [
        "# Visual representation of correlation matrix of type ('ss_dr')\n",
        "corrMatrix_proxy_ss_dr.style.background_gradient(cmap='coolwarm', axis=None).set_precision(2)"
      ],
      "execution_count": null,
      "outputs": []
    },
    {
      "cell_type": "code",
      "metadata": {
        "id": "cZMDjRwOSsLw"
      },
      "source": [
        "# Visual representation of correlation matrix of type ('ls')\n",
        "corrMatrix_weath_ls.style.background_gradient(cmap='coolwarm', axis=None).set_precision(2)"
      ],
      "execution_count": null,
      "outputs": []
    },
    {
      "cell_type": "code",
      "metadata": {
        "id": "bgLdmt8UUh3H"
      },
      "source": [
        "# Visual representation of correlation matrix of type ('ss')\n",
        "corrMatrix_weath_ss.style.background_gradient(cmap='coolwarm', axis=None).set_precision(2)"
      ],
      "execution_count": null,
      "outputs": []
    },
    {
      "cell_type": "code",
      "metadata": {
        "id": "F0BECqDCUnb0"
      },
      "source": [
        "# Visual representation of correlation matrix of type ('bs')\n",
        "corrMatrix_weath_bs.style.background_gradient(cmap='coolwarm', axis=None).set_precision(2)"
      ],
      "execution_count": null,
      "outputs": []
    },
    {
      "cell_type": "markdown",
      "metadata": {
        "id": "LHgzayALjQ6i"
      },
      "source": [
        ">> ## **Correlation diagrams**"
      ]
    },
    {
      "cell_type": "code",
      "metadata": {
        "id": "blzbxuHpjUH_"
      },
      "source": [
        "fig = make_subplots(rows=1, cols=3)\n",
        "\n",
        "fig.add_trace(go.Scatter(\n",
        "    x=proxy_ss_dr['Al2O3'],\n",
        "    y=proxy_ss_dr['(CIA)'],\n",
        "    mode = 'markers'\n",
        "), row=1, col=1)\n",
        "\n",
        "fig.add_trace(go.Scatter(\n",
        "    x=proxy_ss_dr['Al2O3'],\n",
        "    y=proxy_ss_dr['(CIX)'],\n",
        "    mode = 'markers'\n",
        "), row=1, col=2)\n",
        "\n",
        "fig.add_trace(go.Scatter(\n",
        "    x=proxy_ss_dr['Al2O3'],\n",
        "    y=proxy_ss_dr['(W)'],    \n",
        "    mode = 'markers'\n",
        "), row=1, col=3)\n",
        "\n",
        "fig.update_layout(height=600, width=1200, title_text=\"Chemical weathering indices against Al<sub>2</sub>O<sub>3</sub> (%)\", showlegend=False, hovermode=\"x\")\n",
        "\n",
        "fig.update_xaxes(title_text=\"Al<sub>2</sub>O<sub>3</sub> (%)\", row=1, col=1)\n",
        "fig.update_xaxes(title_text=\"Al<sub>2</sub>O<sub>3</sub> (%)\", row=1, col=2)\n",
        "fig.update_xaxes(title_text=\"Al<sub>2</sub>O<sub>3</sub> (%)\", row=1, col=3)\n",
        "\n",
        "fig.update_yaxes(title_text=\"CIA\", row=1, col=1)\n",
        "fig.update_yaxes(title_text=\"CIX\", row=1, col=2)\n",
        "fig.update_yaxes(title_text=\"W\", row=1, col=3)\n",
        "\n",
        "fig.show()\n",
        "\n",
        "# file export to the file hierarchy\n",
        "fig.write_html(\"Plots/Chemical weathering indices for suspended sediment and Denudation regions.html\")\n",
        "files.download('Plots/Chemical weathering indices for suspended sediment and Denudation regions.html')\n",
        "\n",
        "# uncomment below line of code to export the 'svg' file to your local machine\n",
        "#iplot(fig, image='svg', filename='Chemical weathering indices for suspended sediment and Denudation regions', image_width=1280, image_height=1280)"
      ],
      "execution_count": null,
      "outputs": []
    },
    {
      "cell_type": "code",
      "metadata": {
        "id": "WQJSg9gxWik-"
      },
      "source": [
        "fig = make_subplots(rows=1, cols=5)\n",
        "\n",
        "fig.add_trace(go.Scatter(\n",
        "    x=weath_ls['Al2O3/TiO2'],\n",
        "    y=weath_ls['(CIW)'],\n",
        "    mode = 'markers'\n",
        "), row=1, col=1)\n",
        "\n",
        "fig.add_trace(go.Scatter(\n",
        "    x=weath_ls['Al2O3/TiO2'],\n",
        "    y=weath_ls['(CPA)'],\n",
        "    mode = 'markers'\n",
        "), row=1, col=2)\n",
        "\n",
        "fig.add_trace(go.Scatter(\n",
        "    x=weath_ls['Al2O3/TiO2'],\n",
        "    y=weath_ls['(CIA)'],\n",
        "    mode = 'markers'\n",
        "), row=1, col=3)\n",
        "\n",
        "fig.add_trace(go.Scatter(\n",
        "    x=weath_ls['Al2O3/TiO2'],\n",
        "    y=weath_ls['(PIA)'],    \n",
        "    mode = 'markers'\n",
        "), row=1, col=4)\n",
        "\n",
        "fig.add_trace(go.Scatter(\n",
        "    x=weath_ls['Al2O3/TiO2'],\n",
        "    y=weath_ls['(CIX)'],    \n",
        "    mode = 'markers'\n",
        "), row=1, col=5)\n",
        "\n",
        "fig.update_layout(height=600, width=1200, title_text=\"Chemical weathering indices against Al<sub>2</sub>O<sub>3</sub>/TiO<sub>2</sub> for lake sediment\", showlegend=False, hovermode=\"x\")\n",
        "\n",
        "fig.update_xaxes(title_text=\"Al<sub>2</sub>O<sub>3</sub>/TiO<sub>2</sub>\", row=1, col=1)\n",
        "fig.update_xaxes(title_text=\"Al<sub>2</sub>O<sub>3</sub>/TiO<sub>2</sub>\", row=1, col=2)\n",
        "fig.update_xaxes(title_text=\"Al<sub>2</sub>O<sub>3</sub>/TiO<sub>2</sub>\", row=1, col=3)\n",
        "fig.update_xaxes(title_text=\"Al<sub>2</sub>O<sub>3</sub>/TiO<sub>2</sub>\", row=1, col=4)\n",
        "fig.update_xaxes(title_text=\"Al<sub>2</sub>O<sub>3</sub>/TiO<sub>2</sub>\", row=1, col=5)\n",
        "\n",
        "fig.update_yaxes(title_text=\"CIW\", row=1, col=1)\n",
        "fig.update_yaxes(title_text=\"CPA\", row=1, col=2)\n",
        "fig.update_yaxes(title_text=\"CIA\", row=1, col=3)\n",
        "fig.update_yaxes(title_text=\"PIA\", row=1, col=4)\n",
        "fig.update_yaxes(title_text=\"CIX\", row=1, col=5)\n",
        "\n",
        "fig.show()\n",
        "\n",
        "# file export to the file hierarchy\n",
        "fig.write_html(\"Plots/Chemical weathering indices for lake sediment.html\")\n",
        "files.download('Plots/Chemical weathering indices for lake sediment.html')\n",
        "\n",
        "# uncomment below line of code to export the 'svg' file to your local machine\n",
        "#iplot(fig, image='svg', filename='Chemical weathering indices for lake sediment', image_width=1280, image_height=1280)"
      ],
      "execution_count": null,
      "outputs": []
    },
    {
      "cell_type": "code",
      "metadata": {
        "id": "x63jp9bXcL-r"
      },
      "source": [
        "fig = make_subplots(rows=1, cols=5)\n",
        "\n",
        "fig.add_trace(go.Scatter(\n",
        "    x=weath_ss['Al2O3/TiO2'],\n",
        "    y=weath_ss['(CIW)'],\n",
        "    mode = 'markers'\n",
        "), row=1, col=1)\n",
        "\n",
        "fig.add_trace(go.Scatter(\n",
        "    x=weath_ss['Al2O3/TiO2'],\n",
        "    y=weath_ss['(CPA)'],\n",
        "    mode = 'markers'\n",
        "), row=1, col=2)\n",
        "\n",
        "fig.add_trace(go.Scatter(\n",
        "    x=weath_ss['Al2O3/TiO2'],\n",
        "    y=weath_ss['(CIA)'],\n",
        "    mode = 'markers'\n",
        "), row=1, col=3)\n",
        "\n",
        "fig.add_trace(go.Scatter(\n",
        "    x=weath_ss['Al2O3/TiO2'],\n",
        "    y=weath_ss['(PIA)'],    \n",
        "    mode = 'markers'\n",
        "), row=1, col=4)\n",
        "\n",
        "fig.add_trace(go.Scatter(\n",
        "    x=weath_bs['Al2O3/TiO2'],\n",
        "    y=weath_bs['(CIX)'],    \n",
        "    mode = 'markers'\n",
        "), row=1, col=5)\n",
        "\n",
        "fig.update_layout(height=600, width=1200, title_text=\"Chemical weathering indices against Al<sub>2</sub>O<sub>3</sub>/TiO<sub>2</sub> for Surma Sandstone\", showlegend=False, hovermode=\"x\")\n",
        "\n",
        "fig.update_xaxes(title_text=\"Al<sub>2</sub>O<sub>3</sub>/TiO<sub>2</sub>\", row=1, col=1)\n",
        "fig.update_xaxes(title_text=\"Al<sub>2</sub>O<sub>3</sub>/TiO<sub>2</sub>\", row=1, col=2)\n",
        "fig.update_xaxes(title_text=\"Al<sub>2</sub>O<sub>3</sub>/TiO<sub>2</sub>\", row=1, col=3)\n",
        "fig.update_xaxes(title_text=\"Al<sub>2</sub>O<sub>3</sub>/TiO<sub>2</sub>\", row=1, col=4)\n",
        "fig.update_xaxes(title_text=\"Al<sub>2</sub>O<sub>3</sub>/TiO<sub>2</sub>\", row=1, col=5)\n",
        "\n",
        "fig.update_yaxes(title_text=\"CIW\", row=1, col=1)\n",
        "fig.update_yaxes(title_text=\"CPA\", row=1, col=2)\n",
        "fig.update_yaxes(title_text=\"CIA\", row=1, col=3)\n",
        "fig.update_yaxes(title_text=\"PIA\", row=1, col=4)\n",
        "fig.update_yaxes(title_text=\"CIX\", row=1, col=5)\n",
        "\n",
        "fig.show()\n",
        "\n",
        "\n",
        "# file export to the file hierarchy\n",
        "fig.write_html(\"Plots/Chemical weathering indices for Surma Sandstone.html\")\n",
        "files.download('Plots/Chemical weathering indices for Surma Sandstone.html')\n",
        "\n",
        "# uncomment below line of code to export the 'svg' file to your local machine\n",
        "#iplot(fig, image='svg', filename='Chemical weathering indices for Surma Sandstone', image_width=1280, image_height=1280)"
      ],
      "execution_count": null,
      "outputs": []
    },
    {
      "cell_type": "code",
      "metadata": {
        "id": "9rF4xllccM15"
      },
      "source": [
        "fig = make_subplots(rows=1, cols=5)\n",
        "\n",
        "fig.add_trace(go.Scatter(\n",
        "    x=weath_bs['Al2O3/TiO2'],\n",
        "    y=weath_bs['(CIW)'],\n",
        "    mode = 'markers'\n",
        "), row=1, col=1)\n",
        "\n",
        "fig.add_trace(go.Scatter(\n",
        "    x=weath_bs['Al2O3/TiO2'],\n",
        "    y=weath_bs['(CPA)'],\n",
        "    mode = 'markers'\n",
        "), row=1, col=2)\n",
        "\n",
        "fig.add_trace(go.Scatter(\n",
        "    x=weath_bs['Al2O3/TiO2'],\n",
        "    y=weath_bs['(CIA)'],\n",
        "    mode = 'markers'\n",
        "), row=1, col=3)\n",
        "\n",
        "fig.add_trace(go.Scatter(\n",
        "    x=weath_bs['Al2O3/TiO2'],\n",
        "    y=weath_bs['(PIA)'],    \n",
        "    mode = 'markers'\n",
        "), row=1, col=4)\n",
        "\n",
        "fig.add_trace(go.Scatter(\n",
        "    x=weath_bs['Al2O3/TiO2'],\n",
        "    y=weath_bs['(CIX)'],    \n",
        "    mode = 'markers'\n",
        "), row=1, col=5)\n",
        "\n",
        "fig.update_layout(height=600, width=1200, title_text=\"Chemical weathering indices against Al<sub>2</sub>O<sub>3</sub>/TiO<sub>2</sub> for Barail Sandstone\", showlegend=False, hovermode=\"x\")\n",
        "\n",
        "fig.update_xaxes(title_text=\"Al<sub>2</sub>O<sub>3</sub>/TiO<sub>2</sub>\", row=1, col=1)\n",
        "fig.update_xaxes(title_text=\"Al<sub>2</sub>O<sub>3</sub>/TiO<sub>2</sub>\", row=1, col=2)\n",
        "fig.update_xaxes(title_text=\"Al<sub>2</sub>O<sub>3</sub>/TiO<sub>2</sub>\", row=1, col=3)\n",
        "fig.update_xaxes(title_text=\"Al<sub>2</sub>O<sub>3</sub>/TiO<sub>2</sub>\", row=1, col=4)\n",
        "fig.update_xaxes(title_text=\"Al<sub>2</sub>O<sub>3</sub>/TiO<sub>2</sub>\", row=1, col=5)\n",
        "\n",
        "fig.update_yaxes(title_text=\"CIW\", row=1, col=1)\n",
        "fig.update_yaxes(title_text=\"CPA\", row=1, col=2)\n",
        "fig.update_yaxes(title_text=\"CIA\", row=1, col=3)\n",
        "fig.update_yaxes(title_text=\"PIA\", row=1, col=4)\n",
        "fig.update_yaxes(title_text=\"CIX\", row=1, col=5)\n",
        "\n",
        "fig.show()\n",
        "\n",
        "# file export to the file hierarchy\n",
        "fig.write_html(\"Plots/Chemical weathering indices for Barail Sandstone.html\")\n",
        "files.download('Plots/Chemical weathering indices for Barail Sandstone.html')\n",
        "\n",
        "# uncomment below line of code to export the 'svg' file to your local machine\n",
        "#iplot(fig, image='svg', filename='Chemical weathering indices for Barail Sandstone', image_width=1280, image_height=1280)"
      ],
      "execution_count": null,
      "outputs": []
    },
    {
      "cell_type": "code",
      "metadata": {
        "id": "E7Zg8J_TGA0I"
      },
      "source": [
        "# ICV−CIA bivariate plot (Hossain et al., 2017; Long et al., 2012)\n",
        "\n",
        "p = px.scatter(proxy, x = '(CIA)', y = '(ICV)', symbol = 'sample', color = 'type', hover_name = 'sample', \n",
        "               labels={\"(CIA)\": \"CIA\", \"(ICV)\": \"ICV\", \"type\": \"Sample type\"},\n",
        "               title=\"ICV−CIA bivariate plot\")\n",
        "\n",
        "p.update_traces(marker=dict(size=12, line=dict(width=2, color='DarkSlateGrey')), selector=dict(mode='markers'))\n",
        "\n",
        "p.add_shape(type='line',\n",
        "                x0=30,\n",
        "                y0=1,\n",
        "                x1=100,\n",
        "                y1=1,\n",
        "                line=dict(color='Red',),\n",
        "                xref='x',\n",
        "                yref='y'\n",
        ")\n",
        "\n",
        "#p.update_xaxes(range=[30, 100])\n",
        "#p.update_yaxes(range=[0.0, 2])\n",
        "\n",
        "p.show()\n",
        "\n",
        "# file export to the file hierarchy\n",
        "p.write_html(\"Plots/ICV−CIA bivariate plot for suspended sediment and Denudation regions.html\")\n",
        "files.download('Plots/ICV−CIA bivariate plot for suspended sediment and Denudation regions.html')\n",
        "\n",
        "# uncomment below line of code to export the 'svg' file to your local machine\n",
        "#iplot(p, image='svg', filename='ICV−CIA bivariate plot for suspended sediment and Denudation regions', image_width=1280, image_height=1280)"
      ],
      "execution_count": null,
      "outputs": []
    },
    {
      "cell_type": "code",
      "metadata": {
        "id": "WFbXXlvSaXRj"
      },
      "source": [
        "# ICV−CIA bivariate plot (Hossain et al., 2017; Long et al., 2012)\n",
        "\n",
        "p = px.scatter(weath_ls_ss_bs, x = '(CIA)', y = '(ICV)', symbol = 'sample', color = 'type', hover_name = 'sample', \n",
        "               labels={\"(CIA)\": \"CIA\", \"(ICV)\": \"ICV\", \"type\": \"Sample type\"},\n",
        "               title=\"ICV−CIA bivariate plot\")\n",
        "\n",
        "p.update_traces(marker=dict(size=12, line=dict(width=2, color='DarkSlateGrey')), selector=dict(mode='markers'))\n",
        "\n",
        "p.add_shape(type='line',\n",
        "                x0=25,\n",
        "                y0=1,\n",
        "                x1=60,\n",
        "                y1=1,\n",
        "                line=dict(color='Red',),\n",
        "                xref='x',\n",
        "                yref='y'\n",
        ")\n",
        "\n",
        "#p.update_xaxes(range=[30, 100])\n",
        "p.update_yaxes(range=[-1, 18])\n",
        "\n",
        "p.show()\n",
        "\n",
        "# file export to the file hierarchy\n",
        "p.write_html(\"Plots/ICV−CIA bivariate plot for lake sediment, Surma sandstone and Barail sandstone.html\")\n",
        "files.download('Plots/ICV−CIA bivariate plot for lake sediment, Surma sandstone and Barail sandstone.html')\n",
        "\n",
        "# uncomment below line of code to export the 'svg' file to your local machine\n",
        "#iplot(p, image='svg', filename='ICV−CIA bivariate plot for lake sediment, Surma sandstone and Barail sandstone', image_width=1280, image_height=1280)"
      ],
      "execution_count": null,
      "outputs": []
    },
    {
      "cell_type": "code",
      "metadata": {
        "id": "DpBEPeC_s_23"
      },
      "source": [
        "# La−Th bivariate plot (McLennan, 2001)\n",
        "\n",
        "p = px.scatter(data, x = 'Th', y = 'La', symbol = 'sample', color = 'type', hover_name = 'sample', log_x = True, log_y = True, \n",
        "               labels={\"Th\": \"Th (ppm)\", \"La\": \"La (ppm)\", \"type\": \"Sample type\"},\n",
        "               title=\"La−Th bivariate plot\")\n",
        "\n",
        "p.update_traces(marker=dict(size=12, line=dict(width=2, color='DarkSlateGrey')), selector=dict(mode='markers'))\n",
        "\n",
        "p.add_shape(type='line',\n",
        "                x0=data['Th'].min(),\n",
        "                y0=2.8*data['Th'].min(),\n",
        "                x1=data['Th'].max(),\n",
        "                y1=2.8*data['Th'].max(),\n",
        "                line=dict(color='Red',),\n",
        "                xref='x',\n",
        "                yref='y'\n",
        ")\n",
        "\n",
        "p.add_trace(go.Scatter(\n",
        "    x=[data['Th'].min()], y=[data['La'].min() + 0.5*data['La'].min()],\n",
        "    text=[\"La/Th = 2.8\"],\n",
        "    mode=\"text\"\n",
        "))\n",
        "\n",
        "p.update_xaxes(range=[0.1, 2])\n",
        "p.update_yaxes(range=[0.1, 2])\n",
        "\n",
        "p.show()\n",
        "\n",
        "# file export to the file hierarchy\n",
        "p.write_html(\"Plots/La−Th bivariate plot for suspended sediment and Denudation regions.html\")\n",
        "files.download('Plots/La−Th bivariate plot for suspended sediment and Denudation regions.html')\n",
        "\n",
        "# uncomment below line of code to export the file 'svg' to your local machine\n",
        "#iplot(p, image='svg', filename='La−Th bivariate plot for suspended sediment and Denudation regions', image_width=1280, image_height=1280)"
      ],
      "execution_count": null,
      "outputs": []
    },
    {
      "cell_type": "markdown",
      "metadata": {
        "id": "F-puyRDEfotk"
      },
      "source": [
        "> # **Biplots**"
      ]
    },
    {
      "cell_type": "markdown",
      "metadata": {
        "id": "JVvgFQqRRLR3"
      },
      "source": [
        "* Al2O3−TiO2 bivariate plot (McLennan et al. 1979)\n",
        "* The SiO2 vs K2O/Na2O discrimination diagram (Roser and Korsch, 1986)\n",
        "* SiO2/Al2O3 vs K2O/Na2O plot (Paikaray et al, 2007)\n",
        "* K2O/Na2O vs SiO2 Tectonic discrimination diagram (Roser and Korsch, 1986)\n",
        "* TiO2 vs Zr plot (Hayashi et al., 1997)\n",
        "* Plot of Rb/Cs versus Rb for weathering profiles (McLennan, 2001)\n",
        "* Plot of La versus Th, Sc, Rb, Cs, Nb, Ta, Ti, Cr, V, Zr, Hf, Ba, Pb,  for sediment averages and composites (McLennan, 2001)\n",
        "\n"
      ]
    },
    {
      "cell_type": "code",
      "metadata": {
        "id": "StuFiuNeANtO"
      },
      "source": [
        "# Al2O3−TiO2 bivariate plot (McLennan et al. 1979)\n",
        "\n",
        "p = px.scatter(proxy, x = 'Al2O3', y = 'TiO2', symbol = 'sample', color = 'type', hover_name = 'sample', \n",
        "               labels={\"Al2O3\": \"Al<sub>2</sub>O<sub>3</sub> (%)\", \"TiO2\": \"TiO<sub>2</sub> (%)\", \"type\": \"Sample type\"},\n",
        "               title=\"Al<sub>2</sub>O<sub>3</sub>−TiO<sub>2</sub> bivariate plot\")\n",
        "\n",
        "p.update_traces(marker=dict(size=12, line=dict(width=2, color='DarkSlateGrey')), selector=dict(mode='markers'))\n",
        "\n",
        "p.show()"
      ],
      "execution_count": null,
      "outputs": []
    },
    {
      "cell_type": "code",
      "metadata": {
        "id": "aufMEa6wTodW"
      },
      "source": [
        "# SiO2 vs K2O/Na2O discrimination diagram (Roser and Korsch, 1986)\n",
        "proxy['K2O/Na2O'] = proxy['K2O'] / proxy['Na2O']\n",
        "\n",
        "p = px.scatter(proxy, x = 'SiO2', y = 'K2O/Na2O', symbol = 'sample', color = 'type', hover_name = 'sample', log_y=True,\n",
        "               labels={\"SiO2\": \"SiO<sub>2</sub> (%)\", \"K2O/Na2O\": \"K<sub>2</sub>O/Na<sub>2</sub>O\", \"type\": \"Sample type\"},\n",
        "               title=\"SiO<sub>2</sub>−K<sub>2</sub>O/Na<sub>2</sub>O bivariate plot\")\n",
        "\n",
        "p.update_traces(marker=dict(size=12, line=dict(width=2, color='DarkSlateGrey')), selector=dict(mode='markers'))\n",
        "\n",
        "p.show()"
      ],
      "execution_count": null,
      "outputs": []
    },
    {
      "cell_type": "code",
      "metadata": {
        "id": "bwODPB2WYxfW"
      },
      "source": [
        "# SiO2/Al2O3 vs K2O/Na2O plot (Paikaray et al, 2007)\n",
        "proxy['SiO2/Al2O3'] = proxy['SiO2'] / proxy['Al2O3']\n",
        "\n",
        "proxy1 = proxy >> filter_by(X.type != 'igneous_composite')\n",
        "\n",
        "p = px.scatter(proxy1, x = 'K2O/Na2O', y = 'SiO2/Al2O3', symbol = 'sample', color = 'type', hover_name = 'sample', log_x=True, log_y=True,\n",
        "               labels={\"K2O/Na2O\": \"K<sub>2</sub>O/Na<sub>2</sub>O\", \"SiO2/Al2O3\": \"SiO<sub>2</sub>/Al<sub>2</sub>O<sub>3</sub>\", \"type\": \"Sample type\"},\n",
        "               title=\"K<sub>2</sub>O/Na<sub>2</sub>O−SiO<sub>2</sub>/Al<sub>2</sub>O<sub>3</sub> bivariate plot\")\n",
        "\n",
        "p.update_traces(marker=dict(size=12, line=dict(width=2, color='DarkSlateGrey')), selector=dict(mode='markers'))\n",
        "\n",
        "p.show()"
      ],
      "execution_count": null,
      "outputs": []
    },
    {
      "cell_type": "markdown",
      "metadata": {
        "id": "hsXpaGSzlFES"
      },
      "source": [
        "> # **Triplots**"
      ]
    },
    {
      "cell_type": "markdown",
      "metadata": {
        "id": "XAbk5ir5kwR4"
      },
      "source": [
        "* Fe2O3–K2O–Al2O3 compositional space (Paikaray et al, 2007) done\n",
        "* La−Th−Sc tectonic discrimination diagram (Bhatia and Crook, 1986) done"
      ]
    },
    {
      "cell_type": "code",
      "metadata": {
        "id": "NO9zH4g_xzbb"
      },
      "source": [
        "KFA = ternary_cat(data, data['K2O'], data['Fe2O3'], data['Al2O3'], data['sample'], data['type'], data['sample'], {\"a\": \"Al<sub>2</sub>O<sub>3</sub>\", \"b\": \"CaO*+Na<sub>2</sub>O\", \"c\": \"K<sub>2</sub>O\"})"
      ],
      "execution_count": null,
      "outputs": []
    },
    {
      "cell_type": "code",
      "metadata": {
        "id": "pl9X6yf69x3p"
      },
      "source": [
        "LTS = ternary_cat(data, data['La'], data['Th'], data['Sc'], data['sample'], data['type'], data['sample'], {\"a\": \"Al<sub>2</sub>O<sub>3</sub>\", \"b\": \"CaO*+Na<sub>2</sub>O\", \"c\": \"K<sub>2</sub>O\"})"
      ],
      "execution_count": null,
      "outputs": []
    },
    {
      "cell_type": "code",
      "metadata": {
        "id": "8iDKCtNILPLc"
      },
      "source": [
        "VNT = ternary_cat(data, data['V'], data['Ni'], data['Th']*10, data['sample'], data['type'], data['sample'], {\"a\": \"V\", \"b\": \"Ni\", \"c\": \"Th*10\"})"
      ],
      "execution_count": null,
      "outputs": []
    }
  ]
}