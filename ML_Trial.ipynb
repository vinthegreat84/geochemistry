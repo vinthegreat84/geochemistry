{
  "nbformat": 4,
  "nbformat_minor": 0,
  "metadata": {
    "colab": {
      "provenance": [],
      "authorship_tag": "ABX9TyNFjJ8pSJH6oz1/N9JlSiHb",
      "include_colab_link": true
    },
    "kernelspec": {
      "name": "python3",
      "display_name": "Python 3"
    },
    "language_info": {
      "name": "python"
    }
  },
  "cells": [
    {
      "cell_type": "markdown",
      "metadata": {
        "id": "view-in-github",
        "colab_type": "text"
      },
      "source": [
        "<a href=\"https://colab.research.google.com/github/vinthegreat84/geochemistry/blob/master/ML_Trial.ipynb\" target=\"_parent\"><img src=\"https://colab.research.google.com/assets/colab-badge.svg\" alt=\"Open In Colab\"/></a>"
      ]
    },
    {
      "cell_type": "code",
      "source": [
        "import pandas as pd\n",
        "import numpy as np\n",
        "import random"
      ],
      "metadata": {
        "id": "IiPaplihKdqK"
      },
      "execution_count": null,
      "outputs": []
    },
    {
      "cell_type": "code",
      "execution_count": null,
      "metadata": {
        "id": "cb_kSKNbKb7r"
      },
      "outputs": [],
      "source": [
        "url = 'https://raw.githubusercontent.com/vinthegreat84/geochemistry/master/Machine%20learning/clastic.csv'\n",
        "df = pd.read_csv(url)\n",
        "print('Raw data', df)\n",
        "print('Processed input data', df.drop(['sample','type','ref'], axis=1))"
      ]
    },
    {
      "cell_type": "code",
      "source": [
        "df2 = pd.DataFrame(columns = ['Sc','Ti','Cr','Co','Ni','Rb','Zr','Ba','La','Hf','Th'])"
      ],
      "metadata": {
        "id": "HYqV_9g3PreR"
      },
      "execution_count": null,
      "outputs": []
    },
    {
      "cell_type": "code",
      "source": [
        "for i in ['Sc','Ti','Cr','Co','Ni','Rb','Zr','Ba','La','Hf','Th']:\n",
        "  df2[i] = np.linspace(min(df[i]),max(df[i]),1000)\n",
        "df2"
      ],
      "metadata": {
        "id": "tvtEyDX7LBHZ"
      },
      "execution_count": null,
      "outputs": []
    },
    {
      "cell_type": "code",
      "source": [
        "random.uniform(10, 100)"
      ],
      "metadata": {
        "colab": {
          "base_uri": "https://localhost:8080/"
        },
        "id": "FF3-k6gfGNO2",
        "outputId": "74e5f2f8-45e1-4c66-9cf8-83f7bd76d534"
      },
      "execution_count": null,
      "outputs": [
        {
          "output_type": "execute_result",
          "data": {
            "text/plain": [
              "34.48320949938625"
            ]
          },
          "metadata": {},
          "execution_count": 4
        }
      ]
    }
  ]
}