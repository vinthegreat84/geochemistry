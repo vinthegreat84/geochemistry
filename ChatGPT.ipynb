{
  "nbformat": 4,
  "nbformat_minor": 0,
  "metadata": {
    "colab": {
      "provenance": [],
      "include_colab_link": true
    },
    "kernelspec": {
      "name": "python3",
      "display_name": "Python 3"
    },
    "language_info": {
      "name": "python"
    }
  },
  "cells": [
    {
      "cell_type": "markdown",
      "metadata": {
        "id": "view-in-github",
        "colab_type": "text"
      },
      "source": [
        "<a href=\"https://colab.research.google.com/github/vinthegreat84/geochemistry/blob/master/ChatGPT.ipynb\" target=\"_parent\"><img src=\"https://colab.research.google.com/assets/colab-badge.svg\" alt=\"Open In Colab\"/></a>"
      ]
    },
    {
      "cell_type": "markdown",
      "source": [
        "# Packages installation"
      ],
      "metadata": {
        "id": "xZ2EVsVKoSLy"
      }
    },
    {
      "cell_type": "code",
      "source": [
        "try:\n",
        "  from pyChatGPT import ChatGPT\n",
        "except ImportError:\n",
        "  !pip install pyChatGPT"
      ],
      "metadata": {
        "id": "JxXU0kLHKdS_"
      },
      "execution_count": null,
      "outputs": []
    },
    {
      "cell_type": "markdown",
      "source": [
        "# Session authorization"
      ],
      "metadata": {
        "id": "NHBnZ6t1lFZi"
      }
    },
    {
      "cell_type": "code",
      "source": [
        "# session token\n",
        "# session_token = False\n",
        "session_token = 'eyJhbGciOiJkaXIiLCJlbmMiOiJBMjU2R0NNIn0..HOdP0kMSaX2gQak4.Bm4nR3k0q3KToqlubd9RuFvoVuBDucRYz57sl43YgiM9eC8YRaIAju3dn2rsbS3YYeHtjcZip_BSgapSOr6PyDYxFzkUjTYvZluT4bJucYKEAcHi4k5yV8npXx_te1WWrHzCpqmlLEi-nAZddWyy4RkELY_ieI9E8_we2QXUwHMhdqntDk3aeicXwpGp2j_2c8U0fl9lYxTqq2JbD6Upt-Yc9nyRSl5iDwAax_Tro8-eCPR6d_2QS57TnvtphagfO0RB-9aIv8flzrm1JNPB_bX9HTJlnBK96PbWKus7MHhymRxx5NJ1vGaWGw7XYXZroaBSlsW6DhMRrZJ5H5Nz9Yf1Lt6N60ejsdI9tP8xM0TrLVfCmtCDb0pkxLeqmD95Glfhh5k2GWNjjg2ZpcFs0bWmHVdG6K7-rbbSw7qrVCp_rQDm1UT3BrOjA8hOYyMjKGtlc8nSmzuBnkXcKD9R2utss3AnZjddfwyfJnP6hcRQn95WxCWSpYLZOvcoO8XEwcTJPIxmzWUW9teRCRG9BcST9avdol885Icc_F9RXe76Pju5zz8a0IsJiJO3TXEILXS1TPbsiJpJ3C4Qd9znUfcBL1l4iXomSy5gfg-zY_vLcqdI2pHKUwvB_mOn5X1E4nRn7Shph_RBX6LvbUKQ3sZITXN3Y4ZKxHaiPq-f-2nZ0XF5EHjGdX2bwQZ4Nt5-yHekP15c5IY5EJi0Rgh6q6IjoI7gOJdDci6xHGQmkYs0GyluFgNRbtBEdCMEsDQ7eMA47XWyeb-T15qKGj4ureXzhEn7tqGyHu5wEZ3T0JjT3po9UAIZ2tGpOsoaOcNt3KKW3V-25rfKWZ88VDOC2ZjCjfjvN5Kdo0xsbSVqtgtouzH56-un64HGnbp7HqM3PRz8JoysPyO61JQ_P7jWk5ZE2V22m05GSi6we7-3IcUGyd-P_UoEe1XP9Ud8p67amo3UuGEnC8jviXcsFlF2B86_wPRxVeostCW0gzY5DlPvaF0BXAve4ICKFDZbN4qoA6V8DDJ8mgMCdtwF3E8s4AMDiYCar_xd8KIVn3iR384AJbEEu8JvTXFcjlJI9ZFLPuo2-YiDv5gbnyY-_x5IT_msp1H4w4T4v2uKCTspU6DS3p2HM5avlxwqXUST2-x3VqAztWJ8JuuM1Im8WxccEiY3-U4e9yRvgmkKRU_XEGzf4B2WS8JFnAs-lNfDsE9uiGE9CoI0zQPVn4hHsLQ0cb58nCsibD8CddToLlDVFA_6kXh81fHo_zaj9A6NFei0MywALPzGhmEgwx2TWhhqeHQDAW8RYh9ASYNoq5ItaMRAuyE-gVjbnBx3zup9-mo9f4TZ9p0YsDRzci4X4irczxep8B40ZmOnq36vL1dgeyjsqgYcJrFHJbLgCtKAEiAaCMIpmeHyDpgOE53b_Qi0vMZlMqkX7XF24gdXEWlgovsIib6uB_qPquh7WGq2NlRGPHwWrh68LNvm2VgP2UbW9PDi0K9GAiNvXy_AeQ6JvIhx7hf2Hi9GorobPs0hftt2uTWe5uF0f8d7b6SsQiFl1S3no0KggsYykoKAFwAWYFtZnLEM34zm7Asx49xMkzy-m-_8Lbx_uhCeIngUI0-hMs8LDKzJC8XBCySFNT1KrUXL2mYIcozRWfIssX9rzml5O4tR_R8toFWfxIMUlhHXJUNqlygqaH3SBkRBjKEgmyK25NHoRhF3nP_e0hyx3Q2zrftnDMdsQzd78zCNAKb1xIK0uyz6pgKX0uI5EgUF8V96Hr00MIXZW0rzaLUILuEy9hIE954UsmKxG9ON8GPZVPPVjYRPIWz6yiLLKxu8YtxUD3fWbVp675WYQIsSMZ2vZtng-NNt-w_54EGmXbH9EVs-D-HHns_apzJ409Y_eW4EJTsBHuIBk9GhuIWMI4bnGI_eXtS3YtfxiE3hrcz7S_yFsNTXCEbAMHUj19bjjkb5enhTyU5NYe7k9MuOA9V66-ipyXow3-JgwDIPzBJtDW-uLyc5DK0cqb1pbvs3HqEZkb0ejhd_csxPrqqSL-aSWUoOCuBrYQrChZusxdjPukZz_2Tjv5mp_ZllWEMvcIqkfmI_NXBz9G-SURolw7K61JD2P0MVLYxXB-_sbMLQ7k6svrYPk1PnoV6rrsNNPBoHDJVj7-DdJlui5lnuioe7yAYv4jhzABQt3lcujmbjr3PqfCd9GltLUye-CGwMKa6bvzejPOPUfBFjbq1pSo0uEMeT74OrXaoSYXoe2uCsVlzV.sAJYGBlS_7COy7C17YNXTw'\n",
        "\n",
        "# specify proxy\n",
        "proxy = False\n",
        "\n",
        "# specify a conversation id\n",
        "conversation_id = False\n",
        "\n",
        "# email and password\n",
        "email = False\n",
        "password = False\n",
        "\n",
        "api = ChatGPT(session_token, proxy, conversation_id, email, password)"
      ],
      "metadata": {
        "id": "y0qZLsvIqO3f"
      },
      "execution_count": null,
      "outputs": []
    },
    {
      "cell_type": "code",
      "source": [
        "session_token = 'eyJhbGciOiJkaXIiLCJlbmMiOiJBMjU2R0NNIn0..HOdP0kMSaX2gQak4.Bm4nR3k0q3KToqlubd9RuFvoVuBDucRYz57sl43YgiM9eC8YRaIAju3dn2rsbS3YYeHtjcZip_BSgapSOr6PyDYxFzkUjTYvZluT4bJucYKEAcHi4k5yV8npXx_te1WWrHzCpqmlLEi-nAZddWyy4RkELY_ieI9E8_we2QXUwHMhdqntDk3aeicXwpGp2j_2c8U0fl9lYxTqq2JbD6Upt-Yc9nyRSl5iDwAax_Tro8-eCPR6d_2QS57TnvtphagfO0RB-9aIv8flzrm1JNPB_bX9HTJlnBK96PbWKus7MHhymRxx5NJ1vGaWGw7XYXZroaBSlsW6DhMRrZJ5H5Nz9Yf1Lt6N60ejsdI9tP8xM0TrLVfCmtCDb0pkxLeqmD95Glfhh5k2GWNjjg2ZpcFs0bWmHVdG6K7-rbbSw7qrVCp_rQDm1UT3BrOjA8hOYyMjKGtlc8nSmzuBnkXcKD9R2utss3AnZjddfwyfJnP6hcRQn95WxCWSpYLZOvcoO8XEwcTJPIxmzWUW9teRCRG9BcST9avdol885Icc_F9RXe76Pju5zz8a0IsJiJO3TXEILXS1TPbsiJpJ3C4Qd9znUfcBL1l4iXomSy5gfg-zY_vLcqdI2pHKUwvB_mOn5X1E4nRn7Shph_RBX6LvbUKQ3sZITXN3Y4ZKxHaiPq-f-2nZ0XF5EHjGdX2bwQZ4Nt5-yHekP15c5IY5EJi0Rgh6q6IjoI7gOJdDci6xHGQmkYs0GyluFgNRbtBEdCMEsDQ7eMA47XWyeb-T15qKGj4ureXzhEn7tqGyHu5wEZ3T0JjT3po9UAIZ2tGpOsoaOcNt3KKW3V-25rfKWZ88VDOC2ZjCjfjvN5Kdo0xsbSVqtgtouzH56-un64HGnbp7HqM3PRz8JoysPyO61JQ_P7jWk5ZE2V22m05GSi6we7-3IcUGyd-P_UoEe1XP9Ud8p67amo3UuGEnC8jviXcsFlF2B86_wPRxVeostCW0gzY5DlPvaF0BXAve4ICKFDZbN4qoA6V8DDJ8mgMCdtwF3E8s4AMDiYCar_xd8KIVn3iR384AJbEEu8JvTXFcjlJI9ZFLPuo2-YiDv5gbnyY-_x5IT_msp1H4w4T4v2uKCTspU6DS3p2HM5avlxwqXUST2-x3VqAztWJ8JuuM1Im8WxccEiY3-U4e9yRvgmkKRU_XEGzf4B2WS8JFnAs-lNfDsE9uiGE9CoI0zQPVn4hHsLQ0cb58nCsibD8CddToLlDVFA_6kXh81fHo_zaj9A6NFei0MywALPzGhmEgwx2TWhhqeHQDAW8RYh9ASYNoq5ItaMRAuyE-gVjbnBx3zup9-mo9f4TZ9p0YsDRzci4X4irczxep8B40ZmOnq36vL1dgeyjsqgYcJrFHJbLgCtKAEiAaCMIpmeHyDpgOE53b_Qi0vMZlMqkX7XF24gdXEWlgovsIib6uB_qPquh7WGq2NlRGPHwWrh68LNvm2VgP2UbW9PDi0K9GAiNvXy_AeQ6JvIhx7hf2Hi9GorobPs0hftt2uTWe5uF0f8d7b6SsQiFl1S3no0KggsYykoKAFwAWYFtZnLEM34zm7Asx49xMkzy-m-_8Lbx_uhCeIngUI0-hMs8LDKzJC8XBCySFNT1KrUXL2mYIcozRWfIssX9rzml5O4tR_R8toFWfxIMUlhHXJUNqlygqaH3SBkRBjKEgmyK25NHoRhF3nP_e0hyx3Q2zrftnDMdsQzd78zCNAKb1xIK0uyz6pgKX0uI5EgUF8V96Hr00MIXZW0rzaLUILuEy9hIE954UsmKxG9ON8GPZVPPVjYRPIWz6yiLLKxu8YtxUD3fWbVp675WYQIsSMZ2vZtng-NNt-w_54EGmXbH9EVs-D-HHns_apzJ409Y_eW4EJTsBHuIBk9GhuIWMI4bnGI_eXtS3YtfxiE3hrcz7S_yFsNTXCEbAMHUj19bjjkb5enhTyU5NYe7k9MuOA9V66-ipyXow3-JgwDIPzBJtDW-uLyc5DK0cqb1pbvs3HqEZkb0ejhd_csxPrqqSL-aSWUoOCuBrYQrChZusxdjPukZz_2Tjv5mp_ZllWEMvcIqkfmI_NXBz9G-SURolw7K61JD2P0MVLYxXB-_sbMLQ7k6svrYPk1PnoV6rrsNNPBoHDJVj7-DdJlui5lnuioe7yAYv4jhzABQt3lcujmbjr3PqfCd9GltLUye-CGwMKa6bvzejPOPUfBFjbq1pSo0uEMeT74OrXaoSYXoe2uCsVlzV.sAJYGBlS_7COy7C17YNXTw'  # `__Secure-next-auth.session-token` cookie from https://chat.openai.com/chat\n",
        "api = ChatGPT(session_token)  # auth with session token\n",
        "# api = ChatGPT(email='vinthegreat84@gmail.com', password='vin84_iitr')  # auth with email and password\n",
        "# api = ChatGPT(session_token, conversation_id='some-random-uuid')  # specify a conversation id\n",
        "# api = ChatGPT(session_token, proxy='http://proxy.example.com:8080')  # specify proxy"
      ],
      "metadata": {
        "id": "3HmpEXmqlEKR"
      },
      "execution_count": null,
      "outputs": []
    },
    {
      "cell_type": "markdown",
      "source": [
        "# Query"
      ],
      "metadata": {
        "id": "S8R8_RJIocii"
      }
    },
    {
      "cell_type": "code",
      "source": [
        "while True:\n",
        "  user_text = input('Enter your query or may write \"end\" to terminate the program: ')\n",
        "  if user_text.lower() == 'end':\n",
        "    break\n",
        "  else:    \n",
        "    response = api.send_message(user_text)\n",
        "    print(response['message'])\n",
        "    print('\\n')\n",
        "\n",
        "print('Thank you for your time and patience!!')"
      ],
      "metadata": {
        "id": "Rp48i5StnZMe",
        "colab": {
          "base_uri": "https://localhost:8080/",
          "height": 252
        },
        "outputId": "616d7a98-9801-4a79-8bbe-e2746953711f"
      },
      "execution_count": null,
      "outputs": [
        {
          "name": "stdout",
          "output_type": "stream",
          "text": [
            "Enter your query or may write \"end\" to terminate the program: ChatGPT\n"
          ]
        },
        {
          "output_type": "error",
          "ename": "NameError",
          "evalue": "ignored",
          "traceback": [
            "\u001b[0;31m---------------------------------------------------------------------------\u001b[0m",
            "\u001b[0;31mNameError\u001b[0m                                 Traceback (most recent call last)",
            "\u001b[0;32m<ipython-input-5-01efa851cb55>\u001b[0m in \u001b[0;36m<module>\u001b[0;34m\u001b[0m\n\u001b[1;32m      4\u001b[0m     \u001b[0;32mbreak\u001b[0m\u001b[0;34m\u001b[0m\u001b[0;34m\u001b[0m\u001b[0m\n\u001b[1;32m      5\u001b[0m   \u001b[0;32melse\u001b[0m\u001b[0;34m:\u001b[0m\u001b[0;34m\u001b[0m\u001b[0;34m\u001b[0m\u001b[0m\n\u001b[0;32m----> 6\u001b[0;31m     \u001b[0mresponse\u001b[0m \u001b[0;34m=\u001b[0m \u001b[0mapi\u001b[0m\u001b[0;34m.\u001b[0m\u001b[0msend_message\u001b[0m\u001b[0;34m(\u001b[0m\u001b[0muser_text\u001b[0m\u001b[0;34m)\u001b[0m\u001b[0;34m\u001b[0m\u001b[0;34m\u001b[0m\u001b[0m\n\u001b[0m\u001b[1;32m      7\u001b[0m     \u001b[0mprint\u001b[0m\u001b[0;34m(\u001b[0m\u001b[0mresponse\u001b[0m\u001b[0;34m[\u001b[0m\u001b[0;34m'message'\u001b[0m\u001b[0;34m]\u001b[0m\u001b[0;34m)\u001b[0m\u001b[0;34m\u001b[0m\u001b[0;34m\u001b[0m\u001b[0m\n\u001b[1;32m      8\u001b[0m     \u001b[0mprint\u001b[0m\u001b[0;34m(\u001b[0m\u001b[0;34m'\\n'\u001b[0m\u001b[0;34m)\u001b[0m\u001b[0;34m\u001b[0m\u001b[0;34m\u001b[0m\u001b[0m\n",
            "\u001b[0;31mNameError\u001b[0m: name 'api' is not defined"
          ]
        }
      ]
    }
  ]
}